{
 "cells": [
  {
   "cell_type": "markdown",
   "metadata": {},
   "source": [
    "![Airbnb logo](https://japanesquest.com/wp-content/uploads/2017/10/airbnb-logo.png)"
   ]
  },
  {
   "cell_type": "code",
   "execution_count": 12,
   "metadata": {
    "ExecuteTime": {
     "end_time": "2020-05-31T23:13:00.183195Z",
     "start_time": "2020-05-31T23:13:00.175264Z"
    }
   },
   "outputs": [],
   "source": [
    "import pandas as pd\n",
    "import numpy as np\n",
    "import matplotlib.pyplot as plt\n",
    "import seaborn as sns\n",
    "\n",
    "# Machine Learning\n",
    "import sklearn\n",
    "from sklearn import preprocessing\n",
    "from sklearn import metrics\n",
    "from sklearn.metrics import r2_score, mean_absolute_error\n",
    "from sklearn.preprocessing import LabelEncoder,OneHotEncoder\n",
    "from sklearn.model_selection import train_test_split\n",
    "from sklearn.linear_model import LinearRegression, Ridge, Lasso, ElasticNet, RidgeCV, LassoCV, ElasticNetCV\n",
    "from sklearn.ensemble import RandomForestRegressor,  GradientBoostingRegressor\n",
    "\n",
    "from sklearn.preprocessing import PolynomialFeatures, StandardScaler\n",
    "from sklearn.preprocessing import RobustScaler\n",
    "\n",
    "from sklearn.model_selection import GridSearchCV\n",
    "\n",
    "\n",
    "from sklearn.metrics import mean_squared_error"
   ]
  },
  {
   "cell_type": "code",
   "execution_count": 2,
   "metadata": {
    "ExecuteTime": {
     "end_time": "2020-05-31T23:09:05.826662Z",
     "start_time": "2020-05-31T23:09:05.757462Z"
    }
   },
   "outputs": [],
   "source": [
    "clean_sum_listings = pd.read_csv('clean_sum_listings.csv')"
   ]
  },
  {
   "cell_type": "code",
   "execution_count": 3,
   "metadata": {
    "ExecuteTime": {
     "end_time": "2020-05-31T23:09:06.170532Z",
     "start_time": "2020-05-31T23:09:06.158993Z"
    }
   },
   "outputs": [
    {
     "data": {
      "text/plain": [
       "Index(['Unnamed: 0', 'name', 'host_id', 'neighbourhood_group', 'neighbourhood',\n",
       "       'latitude', 'longitude', 'room_type', 'price', 'minimum_nights',\n",
       "       'number_of_reviews', 'reviews_per_month',\n",
       "       'calculated_host_listings_count', 'availability_365'],\n",
       "      dtype='object')"
      ]
     },
     "execution_count": 3,
     "metadata": {},
     "output_type": "execute_result"
    }
   ],
   "source": [
    "clean_sum_listings.columns"
   ]
  },
  {
   "cell_type": "markdown",
   "metadata": {},
   "source": [
    "### 1. Data Transformation"
   ]
  },
  {
   "cell_type": "markdown",
   "metadata": {},
   "source": [
    "### 1.1 Logaritmic Transformation"
   ]
  },
  {
   "cell_type": "code",
   "execution_count": 4,
   "metadata": {
    "ExecuteTime": {
     "end_time": "2020-05-31T23:09:07.748039Z",
     "start_time": "2020-05-31T23:09:07.742570Z"
    }
   },
   "outputs": [],
   "source": [
    "clean_sum_listings['price_log'] = np.log1p(clean_sum_listings.price)"
   ]
  },
  {
   "cell_type": "code",
   "execution_count": 5,
   "metadata": {
    "ExecuteTime": {
     "end_time": "2020-05-31T23:09:08.615059Z",
     "start_time": "2020-05-31T23:09:08.265131Z"
    }
   },
   "outputs": [
    {
     "data": {
      "text/plain": [
       "Text(0.5, 1.0, 'Log-Price Distribution Plot')"
      ]
     },
     "execution_count": 5,
     "metadata": {},
     "output_type": "execute_result"
    },
    {
     "data": {
      "image/png": "[encoded data removed]",
      "text/plain": [
       "<Figure size 432x288 with 1 Axes>"
      ]
     },
     "metadata": {
      "needs_background": "light"
     },
     "output_type": "display_data"
    }
   ],
   "source": [
    "sns.distplot(clean_sum_listings['price_log'])\n",
    "plt.title(\"Log-Price Distribution Plot\",size=15, weight='bold')"
   ]
  },
  {
   "cell_type": "code",
   "execution_count": 7,
   "metadata": {
    "ExecuteTime": {
     "end_time": "2020-05-31T15:29:40.847220Z",
     "start_time": "2020-05-31T15:29:40.442294Z"
    }
   },
   "outputs": [
    {
     "data": {
      "image/png": "[encoded data removed]",
      "text/plain": [
       "<Figure size 432x288 with 1 Axes>"
      ]
     },
     "metadata": {
      "needs_background": "light"
     },
     "output_type": "display_data"
    }
   ],
   "source": [
    "# good fit indicates that normality is a reasonable approximation\n",
    "\n",
    "from scipy import stats\n",
    "stats.probplot(clean_sum_listings['price_log'], plot=plt)\n",
    "plt.show()"
   ]
  },
  {
   "cell_type": "markdown",
   "metadata": {
    "ExecuteTime": {
     "end_time": "2020-05-31T23:09:58.697325Z",
     "start_time": "2020-05-31T23:09:58.691946Z"
    }
   },
   "source": [
    "### 1.2 Dropping unecessary columns"
   ]
  },
  {
   "cell_type": "code",
   "execution_count": 8,
   "metadata": {
    "ExecuteTime": {
     "end_time": "2020-05-31T15:29:40.887833Z",
     "start_time": "2020-05-31T15:29:40.854807Z"
    }
   },
   "outputs": [
    {
     "data": {
      "text/plain": [
       "neighbourhood_group               0\n",
       "neighbourhood                     0\n",
       "latitude                          0\n",
       "longitude                         0\n",
       "room_type                         0\n",
       "minimum_nights                    0\n",
       "number_of_reviews                 0\n",
       "reviews_per_month                 0\n",
       "calculated_host_listings_count    0\n",
       "availability_365                  0\n",
       "price_log                         0\n",
       "dtype: int64"
      ]
     },
     "execution_count": 8,
     "metadata": {},
     "output_type": "execute_result"
    }
   ],
   "source": [
    "# dropping columns \n",
    "clean_sum_listings = clean_sum_listings.drop(columns=['Unnamed: 0', 'name','host_id','price'])\n",
    "clean_sum_listings.isnull().sum()"
   ]
  },
  {
   "cell_type": "markdown",
   "metadata": {},
   "source": [
    "### 2. Plotting Correlation Matrix"
   ]
  },
  {
   "cell_type": "code",
   "execution_count": 9,
   "metadata": {
    "ExecuteTime": {
     "end_time": "2020-05-31T15:29:40.914940Z",
     "start_time": "2020-05-31T15:29:40.906092Z"
    }
   },
   "outputs": [],
   "source": [
    "def heatmap_ml (df):\n",
    "    corr = df.corr().round(2)\n",
    "    mask = np.zeros_like(corr)\n",
    "    mask[np.triu_indices_from(mask)] = True\n",
    "\n",
    "    with sns.axes_style(\"white\"):\n",
    "        f, ax = plt.subplots(figsize=(16, 8))\n",
    "\n",
    "        ax = sns.heatmap(corr, cmap = 'RdBu_r', annot=True,  mask=mask, vmax=1, vmin= -1, square=True)"
   ]
  },
  {
   "cell_type": "code",
   "execution_count": 10,
   "metadata": {
    "ExecuteTime": {
     "end_time": "2020-05-31T15:29:41.973542Z",
     "start_time": "2020-05-31T15:29:40.931471Z"
    }
   },
   "outputs": [
    {
     "data": {
      "image/png": "[encoded data removed]",
      "text/plain": [
       "<Figure size 1152x576 with 2 Axes>"
      ]
     },
     "metadata": {},
     "output_type": "display_data"
    }
   ],
   "source": [
    "corr_matrix = heatmap_ml (clean_sum_listings)\n",
    "corr_matrix"
   ]
  },
  {
   "cell_type": "markdown",
   "metadata": {},
   "source": [
    "- The correlation matrix shows that there is no strong relationship between price and other features \n",
    "- This indicates no feature needed to be taken out of data"
   ]
  },
  {
   "cell_type": "markdown",
   "metadata": {
    "ExecuteTime": {
     "end_time": "2020-05-31T23:10:40.420863Z",
     "start_time": "2020-05-31T23:10:40.416451Z"
    }
   },
   "source": [
    "### 3. Enconding Features"
   ]
  },
  {
   "cell_type": "code",
   "execution_count": 8,
   "metadata": {
    "ExecuteTime": {
     "end_time": "2020-05-31T23:10:47.736540Z",
     "start_time": "2020-05-31T23:10:45.050693Z"
    }
   },
   "outputs": [],
   "source": [
    "categorical_features = clean_sum_listings.select_dtypes(include=['object'])\n",
    "categorical_features_one_hot = pd.get_dummies(categorical_features)\n",
    "\n",
    "numerical_features =  clean_sum_listings.select_dtypes(exclude=['object'])\n",
    "y = numerical_features.price_log\n",
    "numerical_features = numerical_features.drop(['price_log'], axis=1)"
   ]
  },
  {
   "cell_type": "code",
   "execution_count": 9,
   "metadata": {
    "ExecuteTime": {
     "end_time": "2020-05-31T23:10:51.877183Z",
     "start_time": "2020-05-31T23:10:47.742386Z"
    }
   },
   "outputs": [],
   "source": [
    "X = np.concatenate((numerical_features, categorical_features_one_hot), axis=1)\n",
    "X = pd.concat([numerical_features, categorical_features_one_hot], axis=1)\n",
    "\n",
    "data = pd.concat([X, y], axis = 1)"
   ]
  },
  {
   "cell_type": "markdown",
   "metadata": {},
   "source": [
    "### 4. Train and Test Split"
   ]
  },
  {
   "cell_type": "code",
   "execution_count": 10,
   "metadata": {
    "ExecuteTime": {
     "end_time": "2020-05-31T23:10:52.746820Z",
     "start_time": "2020-05-31T23:10:51.880489Z"
    }
   },
   "outputs": [],
   "source": [
    "X_train, X_test, y_train, y_test = train_test_split(X, \n",
    "                                                    y, \n",
    "                                                    test_size=0.2,\n",
    "                                                    random_state=42)"
   ]
  },
  {
   "cell_type": "markdown",
   "metadata": {},
   "source": [
    "### Machine Learning"
   ]
  },
  {
   "cell_type": "markdown",
   "metadata": {},
   "source": [
    "### Phase 1 - With All Features\n",
    "\n",
    "- Linear Regression, Ridge Regression, Lasso Regression, and ElasticNet Regression models will be built\n",
    "- GridSearchCV algorithm will be used to find the best parameters and tuning hyperparameters for each model\n",
    "- 5-Fold Cross Validation with R2 and Mean Squared Error metrics will be used"
   ]
  },
  {
   "cell_type": "code",
   "execution_count": null,
   "metadata": {
    "ExecuteTime": {
     "start_time": "2020-05-31T23:13:08.041Z"
    }
   },
   "outputs": [],
   "source": [
    "# Linear Regression\n",
    "\n",
    "def linear_reg(x, y, cv=5):\n",
    "    ## Defining parameters\n",
    "    model_LR= LinearRegression()\n",
    "\n",
    "    parameters = {'fit_intercept':[True,False], 'normalize':[True,False], 'copy_X':[True, False]}\n",
    "\n",
    "    ## Building Grid Search algorithm with cross-validation and Mean Squared Error score.\n",
    "\n",
    "    grid_search_LR = GridSearchCV(estimator=model_LR,  \n",
    "                         param_grid=parameters,\n",
    "                         scoring='neg_mean_squared_error',\n",
    "                         cv=cv,\n",
    "                         n_jobs=-1)\n",
    "\n",
    "    ## Lastly, finding the best parameters.\n",
    "\n",
    "    grid_search_LR.fit(x, y)\n",
    "    best_parameters_LR = grid_search_LR.best_params_  \n",
    "    best_score_LR = grid_search_LR.best_score_ \n",
    "    print(best_parameters_LR)\n",
    "    print(best_score_LR)\n",
    "\n",
    "\n",
    "linear_reg(X, y)"
   ]
  },
  {
   "cell_type": "code",
   "execution_count": null,
   "metadata": {
    "ExecuteTime": {
     "start_time": "2020-05-31T21:14:34.874Z"
    }
   },
   "outputs": [],
   "source": [
    "# Ridge Regression\n",
    "\n",
    "def ridge_reg(input_x, input_y, cv=5):\n",
    "    ## Defining parameters\n",
    "    model_Ridge= Ridge()\n",
    "\n",
    "    # prepare a range of alpha values to test\n",
    "    alphas = np.array([1,0.1,0.01,0.001,0.0001,0])\n",
    "    normalizes= ([True,False])\n",
    "\n",
    "    ## Building Grid Search algorithm with cross-validation and Mean Squared Error score.\n",
    "\n",
    "    grid_search_Ridge = GridSearchCV(estimator=model_Ridge,  \n",
    "                         param_grid=(dict(alpha=alphas, normalize= normalizes)),\n",
    "                         scoring='neg_mean_squared_error',\n",
    "                         cv=cv,\n",
    "                         n_jobs=-1)\n",
    "\n",
    "    ## Lastly, finding the best parameters.\n",
    "\n",
    "    grid_search_Ridge.fit(input_x, input_y)\n",
    "    best_parameters_Ridge = grid_search_Ridge.best_params_  \n",
    "    best_score_Ridge = grid_search_Ridge.best_score_ \n",
    "    print(best_parameters_Ridge)\n",
    "    print(best_score_Ridge)\n",
    "    \n",
    "# ridge_reg(X, y)"
   ]
  },
  {
   "cell_type": "code",
   "execution_count": null,
   "metadata": {
    "ExecuteTime": {
     "start_time": "2020-05-31T21:14:35.052Z"
    }
   },
   "outputs": [],
   "source": [
    "### Lasso Regression ###\n",
    "\n",
    "def lasso_reg(input_x, input_y, cv=5):\n",
    "    ## Defining parameters\n",
    "    model_Lasso= Lasso()\n",
    "\n",
    "    # prepare a range of alpha values to test\n",
    "    alphas = np.array([1,0.1,0.01,0.001,0.0001,0])\n",
    "    normalizes= ([True,False])\n",
    "\n",
    "    ## Building Grid Search algorithm with cross-validation and Mean Squared Error score.\n",
    "\n",
    "    grid_search_lasso = GridSearchCV(estimator=model_Lasso,  \n",
    "                         param_grid=(dict(alpha=alphas, normalize= normalizes)),\n",
    "                         scoring='neg_mean_squared_error',\n",
    "                         cv=cv,\n",
    "                         n_jobs=-1)\n",
    "\n",
    "    ## Lastly, finding the best parameters.\n",
    "\n",
    "    grid_search_lasso.fit(input_x, input_y)\n",
    "    best_parameters_lasso = grid_search_lasso.best_params_  \n",
    "    best_score_lasso = grid_search_lasso.best_score_ \n",
    "    print(best_parameters_lasso)\n",
    "    print(best_score_lasso)\n",
    "\n",
    "# lasso_reg(X, y)"
   ]
  },
  {
   "cell_type": "code",
   "execution_count": null,
   "metadata": {
    "ExecuteTime": {
     "start_time": "2020-05-31T21:14:35.436Z"
    }
   },
   "outputs": [],
   "source": [
    "### ElasticNet Regression ###\n",
    "\n",
    "def elastic_reg(input_x, input_y,cv=5):\n",
    "    ## Defining parameters\n",
    "    model_grid_Elastic= ElasticNet()\n",
    "\n",
    "    # prepare a range of alpha values to test\n",
    "    alphas = np.array([1,0.1,0.01,0.001,0.0001,0])\n",
    "    normalizes= ([True,False])\n",
    "\n",
    "    ## Building Grid Search algorithm with cross-validation and Mean Squared Error score.\n",
    "\n",
    "    grid_search_elastic = GridSearchCV(estimator=model_grid_Elastic,  \n",
    "                         param_grid=(dict(alpha=alphas, normalize= normalizes)),\n",
    "                         scoring='neg_mean_squared_error',\n",
    "                         cv=cv,\n",
    "                         n_jobs=-1)\n",
    "\n",
    "    ## Lastly, finding the best parameters.\n",
    "\n",
    "    grid_search_elastic.fit(input_x, input_y)\n",
    "    best_parameters_elastic = grid_search_elastic.best_params_  \n",
    "    best_score_elastic = grid_search_elastic.best_score_ \n",
    "    print(best_parameters_elastic)\n",
    "    print(best_score_elastic)\n",
    "\n",
    "# elastic_reg(X, y)"
   ]
  },
  {
   "cell_type": "markdown",
   "metadata": {},
   "source": [
    "### K-Fold Cross Validation"
   ]
  },
  {
   "cell_type": "code",
   "execution_count": 19,
   "metadata": {
    "ExecuteTime": {
     "end_time": "2020-05-30T17:11:23.056239Z",
     "start_time": "2020-05-30T17:11:23.044389Z"
    }
   },
   "outputs": [],
   "source": [
    "from sklearn.model_selection import KFold, cross_val_score\n",
    "\n",
    "n_folds = 5\n",
    "\n",
    "def rmse_cv(model):\n",
    "    kf = KFold(n_folds, shuffle=True, random_state = 42).get_n_splits(numerical_features)\n",
    "    return cross_val_score(model, X_train, y_train, scoring='r2', cv=kf)"
   ]
  },
  {
   "cell_type": "code",
   "execution_count": null,
   "metadata": {
    "ExecuteTime": {
     "start_time": "2020-05-31T23:05:05.049Z"
    }
   },
   "outputs": [],
   "source": [
    "def rmse_cv_mse(model):\n",
    "    kf = KFold(n_folds, shuffle=True, random_state = 42).get_n_splits(numerical_features)\n",
    "    return cross_val_score(model, X_train, y_train, scoring='neg_mean_squared_error', cv=kf)"
   ]
  },
  {
   "cell_type": "code",
   "execution_count": 20,
   "metadata": {
    "ExecuteTime": {
     "end_time": "2020-05-30T17:12:01.743066Z",
     "start_time": "2020-05-30T17:11:23.062574Z"
    }
   },
   "outputs": [
    {
     "name": "stdout",
     "output_type": "stream",
     "text": [
      "LinearRegression: -0.38399 +/- 0.010557\n",
      "Ridge: -0.38419 +/- 0.010271\n",
      "Lasso: -0.07294 +/- 0.006514\n",
      "ElasticNet: -0.08438 +/- 0.008503\n",
      "RandomForestRegressor: -0.53314 +/- 0.004557\n"
     ]
    }
   ],
   "source": [
    "for Model in [LinearRegression, Ridge, Lasso, ElasticNet, RandomForestRegressor]:\n",
    "    cv_res = rmse_cv(Model())\n",
    "    print('{}: {:.5f} +/- {:5f}'.format(Model.__name__, -cv_res.mean(), cv_res.std()))"
   ]
  },
  {
   "cell_type": "markdown",
   "metadata": {},
   "source": [
    "### Polynomial Transformation"
   ]
  },
  {
   "cell_type": "markdown",
   "metadata": {
    "ExecuteTime": {
     "end_time": "2020-05-30T09:12:08.805112Z",
     "start_time": "2020-05-30T09:12:08.788445Z"
    }
   },
   "source": [
    "The polynomial transformation will be made with a second degree which adding the square of each feature."
   ]
  },
  {
   "cell_type": "code",
   "execution_count": 21,
   "metadata": {
    "ExecuteTime": {
     "end_time": "2020-05-30T17:12:02.522135Z",
     "start_time": "2020-05-30T17:12:01.745944Z"
    }
   },
   "outputs": [],
   "source": [
    "Poly = PolynomialFeatures(degree=2, interaction_only=True, include_bias=False)\n",
    "X_train = Poly.fit_transform(X_train)\n",
    "X_test = Poly.fit_transform(X_test)"
   ]
  },
  {
   "cell_type": "markdown",
   "metadata": {},
   "source": [
    "### Prediction"
   ]
  },
  {
   "cell_type": "code",
   "execution_count": 22,
   "metadata": {
    "ExecuteTime": {
     "end_time": "2020-05-30T17:18:31.913859Z",
     "start_time": "2020-05-30T17:12:02.524933Z"
    }
   },
   "outputs": [
    {
     "name": "stderr",
     "output_type": "stream",
     "text": [
      "/Library/Frameworks/Python.framework/Versions/3.8/lib/python3.8/site-packages/sklearn/linear_model/_coordinate_descent.py:474: ConvergenceWarning: Objective did not converge. You might want to increase the number of iterations. Duality gap: 1236.7360233836716, tolerance: 0.46534989061388643\n",
      "  model = cd_fast.enet_coordinate_descent(\n",
      "/Library/Frameworks/Python.framework/Versions/3.8/lib/python3.8/site-packages/sklearn/linear_model/_coordinate_descent.py:474: ConvergenceWarning: Objective did not converge. You might want to increase the number of iterations. Duality gap: 1190.3138894068086, tolerance: 0.46534989061388643\n",
      "  model = cd_fast.enet_coordinate_descent(\n"
     ]
    }
   ],
   "source": [
    "##Linear Regression\n",
    "lr = LinearRegression(copy_X= True, fit_intercept = True, normalize = True)\n",
    "lr.fit(X_train, y_train)\n",
    "lr_pred= lr.predict(X_test)\n",
    "\n",
    "#Ridge Model\n",
    "ridge_model = Ridge(alpha = 0.01, normalize = True)\n",
    "ridge_model.fit(X_train, y_train)             \n",
    "pred_ridge = ridge_model.predict(X_test) \n",
    "\n",
    "#Lasso Model\n",
    "Lasso_model = Lasso(alpha = 0.001, normalize =False)\n",
    "Lasso_model.fit(X_train, y_train)\n",
    "pred_Lasso = Lasso_model.predict(X_test) \n",
    "\n",
    "#ElasticNet Model\n",
    "model_enet = ElasticNet(alpha = 0.01, normalize=False)\n",
    "model_enet.fit(X_train, y_train) \n",
    "pred_test_enet= model_enet.predict(X_test)\n",
    "\n",
    "#RandomForrestRegressor Model\n",
    "model_rf = RandomForestRegressor()\n",
    "model_rf.fit(X_train, y_train) \n",
    "pred_test_rf= model_rf.predict(X_test)"
   ]
  },
  {
   "cell_type": "code",
   "execution_count": 23,
   "metadata": {
    "ExecuteTime": {
     "end_time": "2020-05-30T17:18:31.991364Z",
     "start_time": "2020-05-30T17:18:31.925953Z"
    }
   },
   "outputs": [
    {
     "name": "stdout",
     "output_type": "stream",
     "text": [
      "----------Linear Regression ---------------\n",
      "--Phase-1--\n",
      "MAE: 30579587811.814632\n",
      "RMSE: 745209453923.039307\n",
      "R2 -1456391897562184857681920.000000\n",
      "---------------Ridge ---------------------\n",
      "--Phase-1--\n",
      "MAE: 0.376390\n",
      "RMSE: 0.546846\n",
      "R2 0.215754\n",
      "---------------Lasso-----------------------\n",
      "--Phase-1--\n",
      "MAE: 0.377390\n",
      "RMSE: 0.553114\n",
      "R2 0.197674\n",
      "---------------ElasticNet-------------------\n",
      "--Phase-1 --\n",
      "MAE: 0.377497\n",
      "RMSE: 0.532865\n",
      "R2 0.255344\n",
      "---------------RandomForrestRegressor-------------------\n",
      "--Phase-1 --\n",
      "MAE: 0.309696\n",
      "RMSE: 0.418308\n",
      "R2 0.541104\n"
     ]
    }
   ],
   "source": [
    "print('----------Linear Regression ---------------')\n",
    "\n",
    "print('--Phase-1--')\n",
    "print('MAE: %f'% mean_absolute_error(y_test, lr_pred))\n",
    "print('RMSE: %f'% np.sqrt(mean_squared_error(y_test, lr_pred)))   \n",
    "print('R2 %f' % r2_score(y_test, lr_pred))\n",
    "\n",
    "print('---------------Ridge ---------------------')\n",
    "\n",
    "print('--Phase-1--')\n",
    "print('MAE: %f'% mean_absolute_error(y_test, pred_ridge))\n",
    "print('RMSE: %f'% np.sqrt(mean_squared_error(y_test, pred_ridge)))   \n",
    "print('R2 %f' % r2_score(y_test, pred_ridge))\n",
    "\n",
    "\n",
    "print('---------------Lasso-----------------------')\n",
    "\n",
    "print('--Phase-1--')\n",
    "print('MAE: %f' % mean_absolute_error(y_test, pred_Lasso))\n",
    "print('RMSE: %f' % np.sqrt(mean_squared_error(y_test, pred_Lasso)))\n",
    "print('R2 %f' % r2_score(y_test, pred_Lasso))\n",
    "\n",
    "print('---------------ElasticNet-------------------')\n",
    "\n",
    "print('--Phase-1 --')\n",
    "print('MAE: %f' % mean_absolute_error(y_test,pred_test_enet)) #RMSE\n",
    "print('RMSE: %f' % np.sqrt(mean_squared_error(y_test,pred_test_enet))) #RMSE\n",
    "print('R2 %f' % r2_score(y_test, pred_test_enet))\n",
    "\n",
    "print('---------------RandomForrestRegressor-------------------')\n",
    "\n",
    "print('--Phase-1 --')\n",
    "print('MAE: %f' % mean_absolute_error(y_test,pred_test_rf)) #RMSE\n",
    "print('RMSE: %f' % np.sqrt(mean_squared_error(y_test,pred_test_rf))) #RMSE\n",
    "print('R2 %f' % r2_score(y_test, pred_test_rf))"
   ]
  },
  {
   "cell_type": "markdown",
   "metadata": {},
   "source": [
    "### Hyperparameter Tuning the Random Forest in Python"
   ]
  },
  {
   "cell_type": "code",
   "execution_count": 72,
   "metadata": {
    "ExecuteTime": {
     "end_time": "2020-05-30T22:46:57.128281Z",
     "start_time": "2020-05-30T22:46:57.087573Z"
    }
   },
   "outputs": [
    {
     "name": "stdout",
     "output_type": "stream",
     "text": [
      "Parameters currently in use BASE MODEL:\n",
      "\n",
      "{'bootstrap': True,\n",
      " 'ccp_alpha': 0.0,\n",
      " 'criterion': 'mse',\n",
      " 'max_depth': None,\n",
      " 'max_features': 'auto',\n",
      " 'max_leaf_nodes': None,\n",
      " 'max_samples': None,\n",
      " 'min_impurity_decrease': 0.0,\n",
      " 'min_impurity_split': None,\n",
      " 'min_samples_leaf': 1,\n",
      " 'min_samples_split': 2,\n",
      " 'min_weight_fraction_leaf': 0.0,\n",
      " 'n_estimators': 100,\n",
      " 'n_jobs': None,\n",
      " 'oob_score': False,\n",
      " 'random_state': None,\n",
      " 'verbose': 0,\n",
      " 'warm_start': False}\n"
     ]
    }
   ],
   "source": [
    "from pprint import pprint\n",
    "\n",
    "# Look at parameters used by our current forest\n",
    "print('Parameters currently in use BASE MODEL:\\n')\n",
    "pprint(model_rf.get_params())"
   ]
  },
  {
   "cell_type": "code",
   "execution_count": 25,
   "metadata": {
    "ExecuteTime": {
     "end_time": "2020-05-30T17:18:32.020967Z",
     "start_time": "2020-05-30T17:18:32.015803Z"
    }
   },
   "outputs": [],
   "source": [
    "# n_estimators = number of trees in the foreset\n",
    "# max_features = max number of features considered for splitting a node\n",
    "# max_depth = max number of levels in each decision tree\n",
    "# min_samples_split = min number of data points placed in a node before the node is split\n",
    "# min_samples_leaf = min number of data points allowed in a leaf node\n",
    "# bootstrap = method for sampling data points (with or without replacement)"
   ]
  },
  {
   "cell_type": "markdown",
   "metadata": {},
   "source": [
    "### Random Hyperparameter Grid"
   ]
  },
  {
   "cell_type": "code",
   "execution_count": null,
   "metadata": {
    "ExecuteTime": {
     "start_time": "2020-05-31T19:34:57.176Z"
    }
   },
   "outputs": [],
   "source": [
    "from sklearn.model_selection import RandomizedSearchCV\n",
    "\n",
    "# Number of trees in random forest\n",
    "#n_estimators = [int(x) for x in np.linspace(start = 200, stop = 2000, num = 10)]\n",
    "n_estimators = [50, 70, 80, 90, 100]\n",
    "\n",
    "# Number of features to consider at every split\n",
    "max_features = ['auto', 'sqrt']\n",
    "\n",
    "# Maximum number of levels in tree\n",
    "#max_depth = [int(x) for x in np.linspace(start = 10, stop = 110, num = 11)]\n",
    "#max_depth.append(None)\n",
    "max_depth = [None, 25, 50]\n",
    "\n",
    "# Minimum number of samples required to split a node\n",
    "min_samples_split = [2, 3, 4]\n",
    "\n",
    "# Minimum number of samples required at each leaf node\n",
    "min_samples_leaf = [1, 2, 3]\n",
    "\n",
    "# Method of selecting samples for training each tree\n",
    "bootstrap = [True]\n",
    "\n",
    "# Create the random grid\n",
    "random_grid = {'n_estimators': n_estimators,\n",
    "               'max_features': max_features,\n",
    "               'max_depth': max_depth,\n",
    "               'min_samples_split': min_samples_split,\n",
    "               'min_samples_leaf': min_samples_leaf,\n",
    "               'bootstrap': bootstrap}\n",
    "\n",
    "pprint(random_grid)"
   ]
  },
  {
   "cell_type": "markdown",
   "metadata": {},
   "source": [
    "### Random Search Training"
   ]
  },
  {
   "cell_type": "code",
   "execution_count": null,
   "metadata": {
    "ExecuteTime": {
     "start_time": "2020-05-31T19:39:10.070Z"
    }
   },
   "outputs": [],
   "source": [
    "# Use the random grid to search for best hyperparameters\n",
    "# First create the base model to tune\n",
    "\n",
    "rf = RandomForestRegressor()\n",
    "\n",
    "# Random search of parameters, using 3 fold cross validation, \n",
    "# search across 50 different combinations, and use all available cores\n",
    "rf_random = RandomizedSearchCV(estimator = rf, param_distributions = random_grid, n_iter = 50, cv = 3,\n",
    "                               verbose=2, random_state=42, n_jobs = -1)\n",
    "\n",
    "# Fit the random search model\n",
    "rf_random.fit(X_train, y_train)"
   ]
  },
  {
   "cell_type": "code",
   "execution_count": 69,
   "metadata": {
    "ExecuteTime": {
     "end_time": "2020-05-30T21:38:53.119174Z",
     "start_time": "2020-05-30T21:38:53.112293Z"
    }
   },
   "outputs": [
    {
     "data": {
      "text/plain": [
       "{'n_estimators': 850,\n",
       " 'min_samples_split': 5,\n",
       " 'min_samples_leaf': 2,\n",
       " 'max_features': 'auto',\n",
       " 'max_depth': None,\n",
       " 'bootstrap': True}"
      ]
     },
     "execution_count": 69,
     "metadata": {},
     "output_type": "execute_result"
    }
   ],
   "source": [
    "# best parameters from fitting the random search\n",
    "rf_random.best_params_"
   ]
  },
  {
   "cell_type": "markdown",
   "metadata": {},
   "source": [
    "### Evaluation"
   ]
  },
  {
   "cell_type": "code",
   "execution_count": 26,
   "metadata": {
    "ExecuteTime": {
     "end_time": "2020-05-30T18:37:02.098397Z",
     "start_time": "2020-05-30T18:36:51.270484Z"
    }
   },
   "outputs": [],
   "source": [
    "#RandomForrestRegressor BaseModel\n",
    "model_rf = RandomForestRegressor()\n",
    "model_rf.fit(X_train, y_train) \n",
    "pred_test_rf= model_rf.predict(X_test)"
   ]
  },
  {
   "cell_type": "code",
   "execution_count": 29,
   "metadata": {
    "ExecuteTime": {
     "end_time": "2020-05-30T18:41:04.648172Z",
     "start_time": "2020-05-30T18:40:03.613334Z"
    }
   },
   "outputs": [],
   "source": [
    "#RandomForrestRegressor TunedModel\n",
    "best_random = RandomForestRegressor(n_estimators= 700, min_samples_split=2,min_samples_leaf=2,\n",
    "                                    max_features= 'auto',max_depth=None, bootstrap= True)\n",
    "best_random.fit(X_train, y_train) \n",
    "pred_test_best_random= best_random.predict(X_test)"
   ]
  },
  {
   "cell_type": "code",
   "execution_count": 30,
   "metadata": {
    "ExecuteTime": {
     "end_time": "2020-05-30T18:41:04.678140Z",
     "start_time": "2020-05-30T18:41:04.651450Z"
    }
   },
   "outputs": [
    {
     "name": "stdout",
     "output_type": "stream",
     "text": [
      "---------------RandomForrestRegressor BaseModel-------------------\n",
      "MAE: 0.310067\n",
      "RMSE: 0.418692\n",
      "R2 0.540261\n",
      "---------------RandomForrestRegressor TunedModel-------------------\n",
      "MAE: 0.309581\n",
      "RMSE: 0.418315\n",
      "R2 0.541090\n"
     ]
    }
   ],
   "source": [
    "print('---------------RandomForrestRegressor BaseModel-------------------')\n",
    "\n",
    "print('MAE: %f' % mean_absolute_error(y_test,pred_test_rf)) #RMSE\n",
    "print('RMSE: %f' % np.sqrt(mean_squared_error(y_test,pred_test_rf))) #RMSE\n",
    "print('R2 %f' % r2_score(y_test, pred_test_rf))\n",
    "\n",
    "print('---------------RandomForrestRegressor TunedModel-------------------')\n",
    "\n",
    "print('MAE: %f' % mean_absolute_error(y_test,pred_test_best_random)) #RMSE\n",
    "print('RMSE: %f' % np.sqrt(mean_squared_error(y_test,pred_test_best_random))) #RMSE\n",
    "print('R2 %f' % r2_score(y_test, pred_test_best_random))"
   ]
  },
  {
   "cell_type": "code",
   "execution_count": 31,
   "metadata": {
    "ExecuteTime": {
     "end_time": "2020-05-30T18:44:51.985950Z",
     "start_time": "2020-05-30T18:44:51.979524Z"
    }
   },
   "outputs": [],
   "source": [
    "# {'n_estimators': 700,\n",
    "#  'min_samples_split': 2,\n",
    "#  'min_samples_leaf': 2,\n",
    "#  'max_features': 'auto',\n",
    "#  'max_depth': 50,\n",
    "#  'bootstrap': True}\n",
    "\n",
    "# ---------------RandomForrestRegressor BaseModel-------------------\n",
    "# MAE: 0.312153\n",
    "# RMSE: 0.421678\n",
    "# R2 0.533681\n",
    "# ---------------RandomForrestRegressor TunedModel-------------------\n",
    "# MAE: 0.309980\n",
    "# RMSE: 0.418886\n",
    "# R2 0.539835\n",
    "\n",
    "# R2 diff = 0.006154\n",
    "\n",
    "# ---\n",
    "\n",
    "# {'n_estimators': 850,\n",
    "#  'min_samples_split': 5,\n",
    "#  'min_samples_leaf': 2,\n",
    "#  'max_features': 'auto',\n",
    "#  'max_depth': None,\n",
    "#  'bootstrap': True}\n",
    "\n",
    "# ---------------RandomForrestRegressor BaseModel-------------------\n",
    "# MAE: 0.310067\n",
    "# RMSE: 0.418692\n",
    "# R2 0.540261\n",
    "# ---------------RandomForrestRegressor TunedModel-------------------\n",
    "# MAE: 0.310642\n",
    "# RMSE: 0.419237\n",
    "# R2 0.539065\n",
    "\n",
    "# R2 diff = -0.001196\n",
    "\n",
    "# ---\n",
    "\n",
    "# {'n_estimators': 700,\n",
    "#  'min_samples_split': 2,\n",
    "#  'min_samples_leaf': 2,\n",
    "#  'max_features': 'auto',\n",
    "#  'max_depth': None,\n",
    "#  'bootstrap': True}\n",
    "\n",
    "# ---------------RandomForrestRegressor BaseModel-------------------\n",
    "# MAE: 0.310067\n",
    "# RMSE: 0.418692\n",
    "# R2 0.540261\n",
    "# ---------------RandomForrestRegressor TunedModel-------------------\n",
    "# MAE: 0.309581\n",
    "# RMSE: 0.418315\n",
    "# R2 0.541090\n",
    "\n",
    "# R2 diff = 0,000829"
   ]
  },
  {
   "cell_type": "markdown",
   "metadata": {},
   "source": [
    "### Grid Search with Cross Validation"
   ]
  },
  {
   "cell_type": "code",
   "execution_count": 40,
   "metadata": {
    "ExecuteTime": {
     "end_time": "2020-05-30T18:54:15.092997Z",
     "start_time": "2020-05-30T18:54:15.074911Z"
    }
   },
   "outputs": [],
   "source": [
    "# Create the parameter grid based on the results of random search \n",
    "param_grid = {\n",
    "    'bootstrap': [True],\n",
    "    'max_depth': [None, 50, 70, 90],\n",
    "    'max_features': ['auto'],\n",
    "    'min_samples_leaf': [3, 4, 5],\n",
    "    'min_samples_split': [2, 5, 10],\n",
    "    'n_estimators': [500, 700, 900]\n",
    "}\n",
    "# Create a based model\n",
    "rf = RandomForestRegressor()\n",
    "# Instantiate the grid search model\n",
    "grid_search = GridSearchCV(estimator = rf, param_grid = param_grid, \n",
    "                          cv = 3, n_jobs = -1, verbose = 2)"
   ]
  },
  {
   "cell_type": "code",
   "execution_count": 41,
   "metadata": {
    "ExecuteTime": {
     "end_time": "2020-05-30T20:34:11.799011Z",
     "start_time": "2020-05-30T18:55:18.064713Z"
    }
   },
   "outputs": [
    {
     "name": "stdout",
     "output_type": "stream",
     "text": [
      "Fitting 3 folds for each of 108 candidates, totalling 324 fits\n"
     ]
    },
    {
     "name": "stderr",
     "output_type": "stream",
     "text": [
      "[Parallel(n_jobs=-1)]: Using backend LokyBackend with 4 concurrent workers.\n",
      "[Parallel(n_jobs=-1)]: Done  33 tasks      | elapsed: 12.9min\n",
      "[Parallel(n_jobs=-1)]: Done 154 tasks      | elapsed: 51.2min\n",
      "[Parallel(n_jobs=-1)]: Done 324 out of 324 | elapsed: 97.7min finished\n"
     ]
    },
    {
     "data": {
      "text/plain": [
       "{'bootstrap': True,\n",
       " 'max_depth': None,\n",
       " 'max_features': 'auto',\n",
       " 'min_samples_leaf': 3,\n",
       " 'min_samples_split': 5,\n",
       " 'n_estimators': 700}"
      ]
     },
     "execution_count": 41,
     "metadata": {},
     "output_type": "execute_result"
    }
   ],
   "source": [
    "# Fit the grid search to the data\n",
    "grid_search.fit(X_train, y_train)\n",
    "grid_search.best_params_"
   ]
  },
  {
   "cell_type": "code",
   "execution_count": 51,
   "metadata": {
    "ExecuteTime": {
     "end_time": "2020-05-30T20:43:02.822499Z",
     "start_time": "2020-05-30T20:43:02.811927Z"
    }
   },
   "outputs": [
    {
     "data": {
      "text/plain": [
       "RandomForestRegressor(bootstrap=True, ccp_alpha=0.0, criterion='mse',\n",
       "                      max_depth=None, max_features='auto', max_leaf_nodes=None,\n",
       "                      max_samples=None, min_impurity_decrease=0.0,\n",
       "                      min_impurity_split=None, min_samples_leaf=3,\n",
       "                      min_samples_split=5, min_weight_fraction_leaf=0.0,\n",
       "                      n_estimators=700, n_jobs=None, oob_score=False,\n",
       "                      random_state=None, verbose=0, warm_start=False)"
      ]
     },
     "execution_count": 51,
     "metadata": {},
     "output_type": "execute_result"
    }
   ],
   "source": [
    "best_grid = grid_search.best_estimator_\n",
    "best_grid"
   ]
  },
  {
   "cell_type": "code",
   "execution_count": 52,
   "metadata": {
    "ExecuteTime": {
     "end_time": "2020-05-30T20:43:08.524112Z",
     "start_time": "2020-05-30T20:43:08.029435Z"
    }
   },
   "outputs": [],
   "source": [
    "pred_test_best_grid = best_grid.predict(X_test)"
   ]
  },
  {
   "cell_type": "code",
   "execution_count": 49,
   "metadata": {
    "ExecuteTime": {
     "end_time": "2020-05-30T20:42:51.957886Z",
     "start_time": "2020-05-30T20:42:51.948127Z"
    }
   },
   "outputs": [
    {
     "name": "stdout",
     "output_type": "stream",
     "text": [
      "---------------GridSearch Best-Grid-------------------\n",
      "MAE: 0.312082\n",
      "RMSE: 0.420508\n",
      "R2 0.536264\n"
     ]
    }
   ],
   "source": [
    "print('---------------GridSearch Best-Grid-------------------')\n",
    "\n",
    "print('MAE: %f' % mean_absolute_error(y_test,pred_test_best_grid)) #RMSE\n",
    "print('RMSE: %f' % np.sqrt(mean_squared_error(y_test,pred_test_best_grid))) #RMSE\n",
    "print('R2 %f' % r2_score(y_test, pred_test_best_grid))"
   ]
  },
  {
   "cell_type": "code",
   "execution_count": 53,
   "metadata": {
    "ExecuteTime": {
     "end_time": "2020-05-30T20:46:58.899612Z",
     "start_time": "2020-05-30T20:46:58.883441Z"
    }
   },
   "outputs": [],
   "source": [
    "# another round of GridSearchCV"
   ]
  },
  {
   "cell_type": "code",
   "execution_count": 56,
   "metadata": {
    "ExecuteTime": {
     "end_time": "2020-05-30T20:53:25.082080Z",
     "start_time": "2020-05-30T20:53:25.074845Z"
    }
   },
   "outputs": [],
   "source": [
    "param_grid = {\n",
    "    'bootstrap': [True],\n",
    "    'max_depth': [None, 50],\n",
    "    'max_features': ['auto'],\n",
    "    'min_samples_leaf': [2, 3],\n",
    "    'min_samples_split': [2, 3, 5],\n",
    "    'n_estimators': [500, 600, 700]\n",
    "}\n",
    "# Create a based model\n",
    "rf = RandomForestRegressor()\n",
    "# Instantiate the grid search model\n",
    "grid_search_final = GridSearchCV(estimator = rf, param_grid = param_grid, \n",
    "                          cv = 3, n_jobs = -1, verbose = 2)"
   ]
  },
  {
   "cell_type": "code",
   "execution_count": 57,
   "metadata": {
    "ExecuteTime": {
     "end_time": "2020-05-30T21:21:24.188043Z",
     "start_time": "2020-05-30T20:53:25.602313Z"
    }
   },
   "outputs": [
    {
     "name": "stdout",
     "output_type": "stream",
     "text": [
      "Fitting 3 folds for each of 36 candidates, totalling 108 fits\n"
     ]
    },
    {
     "name": "stderr",
     "output_type": "stream",
     "text": [
      "[Parallel(n_jobs=-1)]: Using backend LokyBackend with 4 concurrent workers.\n",
      "[Parallel(n_jobs=-1)]: Done  33 tasks      | elapsed:  9.3min\n",
      "[Parallel(n_jobs=-1)]: Done 108 out of 108 | elapsed: 27.2min finished\n"
     ]
    }
   ],
   "source": [
    "grid_search_final.fit(X_train, y_train)"
   ]
  },
  {
   "cell_type": "code",
   "execution_count": 65,
   "metadata": {
    "ExecuteTime": {
     "end_time": "2020-05-30T21:31:36.032441Z",
     "start_time": "2020-05-30T21:31:36.023460Z"
    }
   },
   "outputs": [
    {
     "data": {
      "text/plain": [
       "{'bootstrap': True,\n",
       " 'max_depth': 50,\n",
       " 'max_features': 'auto',\n",
       " 'min_samples_leaf': 2,\n",
       " 'min_samples_split': 3,\n",
       " 'n_estimators': 500}"
      ]
     },
     "execution_count": 65,
     "metadata": {},
     "output_type": "execute_result"
    }
   ],
   "source": [
    "grid_search_final.best_params_"
   ]
  },
  {
   "cell_type": "code",
   "execution_count": 60,
   "metadata": {
    "ExecuteTime": {
     "end_time": "2020-05-30T21:28:15.638191Z",
     "start_time": "2020-05-30T21:28:15.232461Z"
    }
   },
   "outputs": [],
   "source": [
    "pred_test_grid_search_final = grid_search_final.predict(X_test)"
   ]
  },
  {
   "cell_type": "code",
   "execution_count": 64,
   "metadata": {
    "ExecuteTime": {
     "end_time": "2020-05-30T21:29:41.258252Z",
     "start_time": "2020-05-30T21:29:41.247199Z"
    }
   },
   "outputs": [
    {
     "name": "stdout",
     "output_type": "stream",
     "text": [
      "---------------GridSearch Final-------------------\n",
      "MAE: 0.309981\n",
      "RMSE: 0.419379\n",
      "R2 0.538751\n"
     ]
    }
   ],
   "source": [
    "print('---------------GridSearch Final-------------------')\n",
    "\n",
    "print('MAE: %f' % mean_absolute_error(y_test,pred_test_grid_search_final)) #RMSE\n",
    "print('RMSE: %f' % np.sqrt(mean_squared_error(y_test,pred_test_grid_search_final))) #RMSE\n",
    "print('R2 %f' % r2_score(y_test, pred_test_grid_search_final))"
   ]
  },
  {
   "cell_type": "markdown",
   "metadata": {},
   "source": [
    "### Final Model"
   ]
  },
  {
   "cell_type": "code",
   "execution_count": 71,
   "metadata": {
    "ExecuteTime": {
     "end_time": "2020-05-30T22:17:43.455493Z",
     "start_time": "2020-05-30T22:17:43.289332Z"
    }
   },
   "outputs": [
    {
     "ename": "AttributeError",
     "evalue": "'RandomForestRegressor' object has no attribute 'best_params_'",
     "output_type": "error",
     "traceback": [
      "\u001b[0;31m---------------------------------------------------------------------------\u001b[0m",
      "\u001b[0;31mAttributeError\u001b[0m                            Traceback (most recent call last)",
      "\u001b[0;32m<ipython-input-71-350c2180943a>\u001b[0m in \u001b[0;36m<module>\u001b[0;34m\u001b[0m\n\u001b[0;32m----> 1\u001b[0;31m \u001b[0mfinal_model\u001b[0m \u001b[0;34m=\u001b[0m \u001b[0mbest_random\u001b[0m\u001b[0;34m.\u001b[0m\u001b[0mbest_params_\u001b[0m\u001b[0;34m\u001b[0m\u001b[0;34m\u001b[0m\u001b[0m\n\u001b[0m",
      "\u001b[0;31mAttributeError\u001b[0m: 'RandomForestRegressor' object has no attribute 'best_params_'"
     ]
    }
   ],
   "source": [
    "final_model = best_random.best_params_"
   ]
  },
  {
   "cell_type": "markdown",
   "metadata": {},
   "source": [
    "### XGBRegressor"
   ]
  },
  {
   "cell_type": "code",
   "execution_count": 76,
   "metadata": {
    "ExecuteTime": {
     "end_time": "2020-05-30T23:19:37.010083Z",
     "start_time": "2020-05-30T23:18:10.936558Z"
    }
   },
   "outputs": [],
   "source": [
    "import xgboost as xgboost\n",
    "\n",
    "xgb = xgboost.XGBRegressor(n_estimators=310,learning_rate=0.1,objective='reg:squarederror')\n",
    "xgb.fit(X_train, y_train)\n",
    "xgb_pred = xgb.predict(X_test)"
   ]
  },
  {
   "cell_type": "code",
   "execution_count": 79,
   "metadata": {
    "ExecuteTime": {
     "end_time": "2020-05-30T23:20:57.897693Z",
     "start_time": "2020-05-30T23:20:57.881886Z"
    }
   },
   "outputs": [
    {
     "name": "stdout",
     "output_type": "stream",
     "text": [
      "---------------XGBRegressor-------------------\n",
      "MAE: 0.328948\n",
      "RMSE: 0.431533\n",
      "R2 0.511630\n"
     ]
    }
   ],
   "source": [
    "print('---------------XGBRegressor-------------------')\n",
    "\n",
    "print('MAE: %f' % mean_absolute_error(y_test,xgb_pred)) #RMSE\n",
    "print('RMSE: %f' % np.sqrt(mean_squared_error(y_test,xgb_pred))) #RMSE\n",
    "print('R2 %f' % r2_score(y_test, xgb_pred))"
   ]
  },
  {
   "cell_type": "code",
   "execution_count": 83,
   "metadata": {
    "ExecuteTime": {
     "end_time": "2020-05-30T23:56:22.148007Z",
     "start_time": "2020-05-30T23:27:42.936183Z"
    }
   },
   "outputs": [
    {
     "name": "stdout",
     "output_type": "stream",
     "text": [
      "[00:27:43] WARNING: /Users/travis/build/dmlc/xgboost/src/learner.cc:480: \n",
      "Parameters: { early_stopping } might not be used.\n",
      "\n",
      "  This may not be accurate due to some parameters are only used in language bindings but\n",
      "  passed down to XGBoost core.  Or some parameters are not used but slip through this\n",
      "  verification. Please open an issue if you find above cases.\n",
      "\n",
      "\n",
      "[00:32:05] WARNING: /Users/travis/build/dmlc/xgboost/src/learner.cc:480: \n",
      "Parameters: { early_stopping } might not be used.\n",
      "\n",
      "  This may not be accurate due to some parameters are only used in language bindings but\n",
      "  passed down to XGBoost core.  Or some parameters are not used but slip through this\n",
      "  verification. Please open an issue if you find above cases.\n",
      "\n",
      "\n",
      "[00:37:57] WARNING: /Users/travis/build/dmlc/xgboost/src/learner.cc:480: \n",
      "Parameters: { early_stopping } might not be used.\n",
      "\n",
      "  This may not be accurate due to some parameters are only used in language bindings but\n",
      "  passed down to XGBoost core.  Or some parameters are not used but slip through this\n",
      "  verification. Please open an issue if you find above cases.\n",
      "\n",
      "\n",
      "[00:42:23] WARNING: /Users/travis/build/dmlc/xgboost/src/learner.cc:480: \n",
      "Parameters: { early_stopping } might not be used.\n",
      "\n",
      "  This may not be accurate due to some parameters are only used in language bindings but\n",
      "  passed down to XGBoost core.  Or some parameters are not used but slip through this\n",
      "  verification. Please open an issue if you find above cases.\n",
      "\n",
      "\n",
      "[00:46:57] WARNING: /Users/travis/build/dmlc/xgboost/src/learner.cc:480: \n",
      "Parameters: { early_stopping } might not be used.\n",
      "\n",
      "  This may not be accurate due to some parameters are only used in language bindings but\n",
      "  passed down to XGBoost core.  Or some parameters are not used but slip through this\n",
      "  verification. Please open an issue if you find above cases.\n",
      "\n",
      "\n",
      "[00:51:52] WARNING: /Users/travis/build/dmlc/xgboost/src/learner.cc:480: \n",
      "Parameters: { early_stopping } might not be used.\n",
      "\n",
      "  This may not be accurate due to some parameters are only used in language bindings but\n",
      "  passed down to XGBoost core.  Or some parameters are not used but slip through this\n",
      "  verification. Please open an issue if you find above cases.\n",
      "\n",
      "\n"
     ]
    }
   ],
   "source": [
    "from sklearn.model_selection import KFold, cross_val_score\n",
    "\n",
    "\n",
    "xgb_baseline = xgboost.XGBRegressor(n_estimators=1000, learning_rate=0.05, early_stopping=5)\n",
    "\n",
    "n_folds = 5\n",
    "\n",
    "kf = KFold(n_folds, shuffle=True, random_state = 42).get_n_splits(numerical_features)\n",
    "\n",
    "cv_res = cross_val_score(xgb_baseline, X_train, y_train, scoring='neg_mean_squared_error', cv=kf)\n",
    "xgb_baseline.fit(X_train, y_train)\n",
    "\n",
    "y_train_xgb_base = xgb_baseline.predict(X_train)\n",
    "y_test_xgb_base = xgb_baseline.predict(X_test)"
   ]
  },
  {
   "cell_type": "code",
   "execution_count": 84,
   "metadata": {
    "ExecuteTime": {
     "end_time": "2020-05-31T09:10:23.867863Z",
     "start_time": "2020-05-31T09:10:23.767597Z"
    }
   },
   "outputs": [
    {
     "name": "stdout",
     "output_type": "stream",
     "text": [
      "---------------XGBRegressor Base-------------------\n",
      "MAE: 0.327176\n",
      "RMSE: 0.431116\n",
      "R2 0.512573\n"
     ]
    }
   ],
   "source": [
    "print('---------------XGBRegressor Base-------------------')\n",
    "\n",
    "print('MAE: %f' % mean_absolute_error(y_test,y_test_xgb_base)) #RMSE\n",
    "print('RMSE: %f' % np.sqrt(mean_squared_error(y_test,y_test_xgb_base))) #RMSE\n",
    "print('R2 %f' % r2_score(y_test, y_test_xgb_base))"
   ]
  },
  {
   "cell_type": "code",
   "execution_count": 19,
   "metadata": {
    "ExecuteTime": {
     "end_time": "2020-05-31T15:32:42.595490Z",
     "start_time": "2020-05-31T15:32:42.547126Z"
    }
   },
   "outputs": [],
   "source": [
    "from lightgbm import LGBMRegressor"
   ]
  },
  {
   "cell_type": "code",
   "execution_count": 20,
   "metadata": {
    "ExecuteTime": {
     "end_time": "2020-05-31T15:32:43.059220Z",
     "start_time": "2020-05-31T15:32:43.047453Z"
    }
   },
   "outputs": [
    {
     "data": {
      "text/plain": [
       "Index(['neighbourhood_group', 'neighbourhood', 'latitude', 'longitude',\n",
       "       'room_type', 'minimum_nights', 'number_of_reviews', 'reviews_per_month',\n",
       "       'calculated_host_listings_count', 'availability_365', 'price_log'],\n",
       "      dtype='object')"
      ]
     },
     "execution_count": 20,
     "metadata": {},
     "output_type": "execute_result"
    }
   ],
   "source": [
    "clean_sum_listings.columns"
   ]
  },
  {
   "cell_type": "code",
   "execution_count": 21,
   "metadata": {
    "ExecuteTime": {
     "end_time": "2020-05-31T15:32:43.661543Z",
     "start_time": "2020-05-31T15:32:43.647123Z"
    }
   },
   "outputs": [
    {
     "data": {
      "text/plain": [
       "neighbourhood_group                object\n",
       "neighbourhood                      object\n",
       "latitude                          float64\n",
       "longitude                         float64\n",
       "room_type                          object\n",
       "minimum_nights                      int64\n",
       "number_of_reviews                   int64\n",
       "reviews_per_month                 float64\n",
       "calculated_host_listings_count      int64\n",
       "availability_365                    int64\n",
       "price_log                         float64\n",
       "dtype: object"
      ]
     },
     "execution_count": 21,
     "metadata": {},
     "output_type": "execute_result"
    }
   ],
   "source": [
    "clean_sum_listings.dtypes"
   ]
  },
  {
   "cell_type": "code",
   "execution_count": 22,
   "metadata": {
    "ExecuteTime": {
     "end_time": "2020-05-31T15:32:44.399784Z",
     "start_time": "2020-05-31T15:32:44.394935Z"
    }
   },
   "outputs": [],
   "source": [
    "from sklearn.preprocessing import MinMaxScaler"
   ]
  },
  {
   "cell_type": "code",
   "execution_count": 23,
   "metadata": {
    "ExecuteTime": {
     "end_time": "2020-05-31T15:32:44.760846Z",
     "start_time": "2020-05-31T15:32:44.695473Z"
    }
   },
   "outputs": [
    {
     "data": {
      "text/html": [
       "<div>\n",
       "<style scoped>\n",
       "    .dataframe tbody tr th:only-of-type {\n",
       "        vertical-align: middle;\n",
       "    }\n",
       "\n",
       "    .dataframe tbody tr th {\n",
       "        vertical-align: top;\n",
       "    }\n",
       "\n",
       "    .dataframe thead th {\n",
       "        text-align: right;\n",
       "    }\n",
       "</style>\n",
       "<table border=\"1\" class=\"dataframe\">\n",
       "  <thead>\n",
       "    <tr style=\"text-align: right;\">\n",
       "      <th></th>\n",
       "      <th>neighbourhood_group_Ciutat Vella</th>\n",
       "      <th>neighbourhood_group_Eixample</th>\n",
       "      <th>neighbourhood_group_Gràcia</th>\n",
       "      <th>neighbourhood_group_Horta-Guinardó</th>\n",
       "      <th>neighbourhood_group_Les Corts</th>\n",
       "      <th>neighbourhood_group_Nou Barris</th>\n",
       "      <th>neighbourhood_group_Sant Andreu</th>\n",
       "      <th>neighbourhood_group_Sant Martí</th>\n",
       "      <th>neighbourhood_group_Sants-Montjuïc</th>\n",
       "      <th>neighbourhood_group_Sarrià-Sant Gervasi</th>\n",
       "      <th>...</th>\n",
       "      <th>neighbourhood_la Verneda i la Pau</th>\n",
       "      <th>neighbourhood_la Vila Olímpica del Poblenou</th>\n",
       "      <th>neighbourhood_la Vila de Gràcia</th>\n",
       "      <th>neighbourhood_les Corts</th>\n",
       "      <th>neighbourhood_les Roquetes</th>\n",
       "      <th>neighbourhood_les Tres Torres</th>\n",
       "      <th>room_type_Entire home/apt</th>\n",
       "      <th>room_type_Hotel room</th>\n",
       "      <th>room_type_Private room</th>\n",
       "      <th>room_type_Shared room</th>\n",
       "    </tr>\n",
       "  </thead>\n",
       "  <tbody>\n",
       "    <tr>\n",
       "      <th>0</th>\n",
       "      <td>1</td>\n",
       "      <td>0</td>\n",
       "      <td>0</td>\n",
       "      <td>0</td>\n",
       "      <td>0</td>\n",
       "      <td>0</td>\n",
       "      <td>0</td>\n",
       "      <td>0</td>\n",
       "      <td>0</td>\n",
       "      <td>0</td>\n",
       "      <td>...</td>\n",
       "      <td>0</td>\n",
       "      <td>0</td>\n",
       "      <td>0</td>\n",
       "      <td>0</td>\n",
       "      <td>0</td>\n",
       "      <td>0</td>\n",
       "      <td>0</td>\n",
       "      <td>0</td>\n",
       "      <td>1</td>\n",
       "      <td>0</td>\n",
       "    </tr>\n",
       "    <tr>\n",
       "      <th>1</th>\n",
       "      <td>0</td>\n",
       "      <td>0</td>\n",
       "      <td>1</td>\n",
       "      <td>0</td>\n",
       "      <td>0</td>\n",
       "      <td>0</td>\n",
       "      <td>0</td>\n",
       "      <td>0</td>\n",
       "      <td>0</td>\n",
       "      <td>0</td>\n",
       "      <td>...</td>\n",
       "      <td>0</td>\n",
       "      <td>0</td>\n",
       "      <td>0</td>\n",
       "      <td>0</td>\n",
       "      <td>0</td>\n",
       "      <td>0</td>\n",
       "      <td>1</td>\n",
       "      <td>0</td>\n",
       "      <td>0</td>\n",
       "      <td>0</td>\n",
       "    </tr>\n",
       "    <tr>\n",
       "      <th>2</th>\n",
       "      <td>0</td>\n",
       "      <td>0</td>\n",
       "      <td>1</td>\n",
       "      <td>0</td>\n",
       "      <td>0</td>\n",
       "      <td>0</td>\n",
       "      <td>0</td>\n",
       "      <td>0</td>\n",
       "      <td>0</td>\n",
       "      <td>0</td>\n",
       "      <td>...</td>\n",
       "      <td>0</td>\n",
       "      <td>0</td>\n",
       "      <td>0</td>\n",
       "      <td>0</td>\n",
       "      <td>0</td>\n",
       "      <td>0</td>\n",
       "      <td>1</td>\n",
       "      <td>0</td>\n",
       "      <td>0</td>\n",
       "      <td>0</td>\n",
       "    </tr>\n",
       "    <tr>\n",
       "      <th>3</th>\n",
       "      <td>1</td>\n",
       "      <td>0</td>\n",
       "      <td>0</td>\n",
       "      <td>0</td>\n",
       "      <td>0</td>\n",
       "      <td>0</td>\n",
       "      <td>0</td>\n",
       "      <td>0</td>\n",
       "      <td>0</td>\n",
       "      <td>0</td>\n",
       "      <td>...</td>\n",
       "      <td>0</td>\n",
       "      <td>0</td>\n",
       "      <td>0</td>\n",
       "      <td>0</td>\n",
       "      <td>0</td>\n",
       "      <td>0</td>\n",
       "      <td>0</td>\n",
       "      <td>0</td>\n",
       "      <td>1</td>\n",
       "      <td>0</td>\n",
       "    </tr>\n",
       "    <tr>\n",
       "      <th>4</th>\n",
       "      <td>1</td>\n",
       "      <td>0</td>\n",
       "      <td>0</td>\n",
       "      <td>0</td>\n",
       "      <td>0</td>\n",
       "      <td>0</td>\n",
       "      <td>0</td>\n",
       "      <td>0</td>\n",
       "      <td>0</td>\n",
       "      <td>0</td>\n",
       "      <td>...</td>\n",
       "      <td>0</td>\n",
       "      <td>0</td>\n",
       "      <td>0</td>\n",
       "      <td>0</td>\n",
       "      <td>0</td>\n",
       "      <td>0</td>\n",
       "      <td>0</td>\n",
       "      <td>0</td>\n",
       "      <td>1</td>\n",
       "      <td>0</td>\n",
       "    </tr>\n",
       "    <tr>\n",
       "      <th>...</th>\n",
       "      <td>...</td>\n",
       "      <td>...</td>\n",
       "      <td>...</td>\n",
       "      <td>...</td>\n",
       "      <td>...</td>\n",
       "      <td>...</td>\n",
       "      <td>...</td>\n",
       "      <td>...</td>\n",
       "      <td>...</td>\n",
       "      <td>...</td>\n",
       "      <td>...</td>\n",
       "      <td>...</td>\n",
       "      <td>...</td>\n",
       "      <td>...</td>\n",
       "      <td>...</td>\n",
       "      <td>...</td>\n",
       "      <td>...</td>\n",
       "      <td>...</td>\n",
       "      <td>...</td>\n",
       "      <td>...</td>\n",
       "      <td>...</td>\n",
       "    </tr>\n",
       "    <tr>\n",
       "      <th>15748</th>\n",
       "      <td>1</td>\n",
       "      <td>0</td>\n",
       "      <td>0</td>\n",
       "      <td>0</td>\n",
       "      <td>0</td>\n",
       "      <td>0</td>\n",
       "      <td>0</td>\n",
       "      <td>0</td>\n",
       "      <td>0</td>\n",
       "      <td>0</td>\n",
       "      <td>...</td>\n",
       "      <td>0</td>\n",
       "      <td>0</td>\n",
       "      <td>0</td>\n",
       "      <td>0</td>\n",
       "      <td>0</td>\n",
       "      <td>0</td>\n",
       "      <td>0</td>\n",
       "      <td>0</td>\n",
       "      <td>1</td>\n",
       "      <td>0</td>\n",
       "    </tr>\n",
       "    <tr>\n",
       "      <th>15749</th>\n",
       "      <td>0</td>\n",
       "      <td>1</td>\n",
       "      <td>0</td>\n",
       "      <td>0</td>\n",
       "      <td>0</td>\n",
       "      <td>0</td>\n",
       "      <td>0</td>\n",
       "      <td>0</td>\n",
       "      <td>0</td>\n",
       "      <td>0</td>\n",
       "      <td>...</td>\n",
       "      <td>0</td>\n",
       "      <td>0</td>\n",
       "      <td>0</td>\n",
       "      <td>0</td>\n",
       "      <td>0</td>\n",
       "      <td>0</td>\n",
       "      <td>0</td>\n",
       "      <td>0</td>\n",
       "      <td>1</td>\n",
       "      <td>0</td>\n",
       "    </tr>\n",
       "    <tr>\n",
       "      <th>15750</th>\n",
       "      <td>0</td>\n",
       "      <td>0</td>\n",
       "      <td>0</td>\n",
       "      <td>0</td>\n",
       "      <td>0</td>\n",
       "      <td>0</td>\n",
       "      <td>0</td>\n",
       "      <td>1</td>\n",
       "      <td>0</td>\n",
       "      <td>0</td>\n",
       "      <td>...</td>\n",
       "      <td>0</td>\n",
       "      <td>0</td>\n",
       "      <td>0</td>\n",
       "      <td>0</td>\n",
       "      <td>0</td>\n",
       "      <td>0</td>\n",
       "      <td>1</td>\n",
       "      <td>0</td>\n",
       "      <td>0</td>\n",
       "      <td>0</td>\n",
       "    </tr>\n",
       "    <tr>\n",
       "      <th>15751</th>\n",
       "      <td>1</td>\n",
       "      <td>0</td>\n",
       "      <td>0</td>\n",
       "      <td>0</td>\n",
       "      <td>0</td>\n",
       "      <td>0</td>\n",
       "      <td>0</td>\n",
       "      <td>0</td>\n",
       "      <td>0</td>\n",
       "      <td>0</td>\n",
       "      <td>...</td>\n",
       "      <td>0</td>\n",
       "      <td>0</td>\n",
       "      <td>0</td>\n",
       "      <td>0</td>\n",
       "      <td>0</td>\n",
       "      <td>0</td>\n",
       "      <td>0</td>\n",
       "      <td>0</td>\n",
       "      <td>1</td>\n",
       "      <td>0</td>\n",
       "    </tr>\n",
       "    <tr>\n",
       "      <th>15752</th>\n",
       "      <td>0</td>\n",
       "      <td>1</td>\n",
       "      <td>0</td>\n",
       "      <td>0</td>\n",
       "      <td>0</td>\n",
       "      <td>0</td>\n",
       "      <td>0</td>\n",
       "      <td>0</td>\n",
       "      <td>0</td>\n",
       "      <td>0</td>\n",
       "      <td>...</td>\n",
       "      <td>0</td>\n",
       "      <td>0</td>\n",
       "      <td>0</td>\n",
       "      <td>0</td>\n",
       "      <td>0</td>\n",
       "      <td>0</td>\n",
       "      <td>1</td>\n",
       "      <td>0</td>\n",
       "      <td>0</td>\n",
       "      <td>0</td>\n",
       "    </tr>\n",
       "  </tbody>\n",
       "</table>\n",
       "<p>15753 rows × 84 columns</p>\n",
       "</div>"
      ],
      "text/plain": [
       "       neighbourhood_group_Ciutat Vella  neighbourhood_group_Eixample  \\\n",
       "0                                     1                             0   \n",
       "1                                     0                             0   \n",
       "2                                     0                             0   \n",
       "3                                     1                             0   \n",
       "4                                     1                             0   \n",
       "...                                 ...                           ...   \n",
       "15748                                 1                             0   \n",
       "15749                                 0                             1   \n",
       "15750                                 0                             0   \n",
       "15751                                 1                             0   \n",
       "15752                                 0                             1   \n",
       "\n",
       "       neighbourhood_group_Gràcia  neighbourhood_group_Horta-Guinardó  \\\n",
       "0                               0                                   0   \n",
       "1                               1                                   0   \n",
       "2                               1                                   0   \n",
       "3                               0                                   0   \n",
       "4                               0                                   0   \n",
       "...                           ...                                 ...   \n",
       "15748                           0                                   0   \n",
       "15749                           0                                   0   \n",
       "15750                           0                                   0   \n",
       "15751                           0                                   0   \n",
       "15752                           0                                   0   \n",
       "\n",
       "       neighbourhood_group_Les Corts  neighbourhood_group_Nou Barris  \\\n",
       "0                                  0                               0   \n",
       "1                                  0                               0   \n",
       "2                                  0                               0   \n",
       "3                                  0                               0   \n",
       "4                                  0                               0   \n",
       "...                              ...                             ...   \n",
       "15748                              0                               0   \n",
       "15749                              0                               0   \n",
       "15750                              0                               0   \n",
       "15751                              0                               0   \n",
       "15752                              0                               0   \n",
       "\n",
       "       neighbourhood_group_Sant Andreu  neighbourhood_group_Sant Martí  \\\n",
       "0                                    0                               0   \n",
       "1                                    0                               0   \n",
       "2                                    0                               0   \n",
       "3                                    0                               0   \n",
       "4                                    0                               0   \n",
       "...                                ...                             ...   \n",
       "15748                                0                               0   \n",
       "15749                                0                               0   \n",
       "15750                                0                               1   \n",
       "15751                                0                               0   \n",
       "15752                                0                               0   \n",
       "\n",
       "       neighbourhood_group_Sants-Montjuïc  \\\n",
       "0                                       0   \n",
       "1                                       0   \n",
       "2                                       0   \n",
       "3                                       0   \n",
       "4                                       0   \n",
       "...                                   ...   \n",
       "15748                                   0   \n",
       "15749                                   0   \n",
       "15750                                   0   \n",
       "15751                                   0   \n",
       "15752                                   0   \n",
       "\n",
       "       neighbourhood_group_Sarrià-Sant Gervasi  ...  \\\n",
       "0                                            0  ...   \n",
       "1                                            0  ...   \n",
       "2                                            0  ...   \n",
       "3                                            0  ...   \n",
       "4                                            0  ...   \n",
       "...                                        ...  ...   \n",
       "15748                                        0  ...   \n",
       "15749                                        0  ...   \n",
       "15750                                        0  ...   \n",
       "15751                                        0  ...   \n",
       "15752                                        0  ...   \n",
       "\n",
       "       neighbourhood_la Verneda i la Pau  \\\n",
       "0                                      0   \n",
       "1                                      0   \n",
       "2                                      0   \n",
       "3                                      0   \n",
       "4                                      0   \n",
       "...                                  ...   \n",
       "15748                                  0   \n",
       "15749                                  0   \n",
       "15750                                  0   \n",
       "15751                                  0   \n",
       "15752                                  0   \n",
       "\n",
       "       neighbourhood_la Vila Olímpica del Poblenou  \\\n",
       "0                                                0   \n",
       "1                                                0   \n",
       "2                                                0   \n",
       "3                                                0   \n",
       "4                                                0   \n",
       "...                                            ...   \n",
       "15748                                            0   \n",
       "15749                                            0   \n",
       "15750                                            0   \n",
       "15751                                            0   \n",
       "15752                                            0   \n",
       "\n",
       "       neighbourhood_la Vila de Gràcia  neighbourhood_les Corts  \\\n",
       "0                                    0                        0   \n",
       "1                                    0                        0   \n",
       "2                                    0                        0   \n",
       "3                                    0                        0   \n",
       "4                                    0                        0   \n",
       "...                                ...                      ...   \n",
       "15748                                0                        0   \n",
       "15749                                0                        0   \n",
       "15750                                0                        0   \n",
       "15751                                0                        0   \n",
       "15752                                0                        0   \n",
       "\n",
       "       neighbourhood_les Roquetes  neighbourhood_les Tres Torres  \\\n",
       "0                               0                              0   \n",
       "1                               0                              0   \n",
       "2                               0                              0   \n",
       "3                               0                              0   \n",
       "4                               0                              0   \n",
       "...                           ...                            ...   \n",
       "15748                           0                              0   \n",
       "15749                           0                              0   \n",
       "15750                           0                              0   \n",
       "15751                           0                              0   \n",
       "15752                           0                              0   \n",
       "\n",
       "       room_type_Entire home/apt  room_type_Hotel room  \\\n",
       "0                              0                     0   \n",
       "1                              1                     0   \n",
       "2                              1                     0   \n",
       "3                              0                     0   \n",
       "4                              0                     0   \n",
       "...                          ...                   ...   \n",
       "15748                          0                     0   \n",
       "15749                          0                     0   \n",
       "15750                          1                     0   \n",
       "15751                          0                     0   \n",
       "15752                          1                     0   \n",
       "\n",
       "       room_type_Private room  room_type_Shared room  \n",
       "0                           1                      0  \n",
       "1                           0                      0  \n",
       "2                           0                      0  \n",
       "3                           1                      0  \n",
       "4                           1                      0  \n",
       "...                       ...                    ...  \n",
       "15748                       1                      0  \n",
       "15749                       1                      0  \n",
       "15750                       0                      0  \n",
       "15751                       1                      0  \n",
       "15752                       0                      0  \n",
       "\n",
       "[15753 rows x 84 columns]"
      ]
     },
     "execution_count": 23,
     "metadata": {},
     "output_type": "execute_result"
    }
   ],
   "source": [
    "categorical_features_one_hot"
   ]
  },
  {
   "cell_type": "code",
   "execution_count": 24,
   "metadata": {
    "ExecuteTime": {
     "end_time": "2020-05-31T15:32:46.385304Z",
     "start_time": "2020-05-31T15:32:46.376400Z"
    }
   },
   "outputs": [],
   "source": [
    "def transform_data(df, num_cols, cat_cols):\n",
    "    transformed_df = df.copy()\n",
    "\n",
    "    for col in cat_cols:\n",
    "        transformed_df[col] = transformed_df[col].astype('category')\n",
    "        transformed_df = pd.concat([transformed_df.drop(\n",
    "            col, axis=1), pd.get_dummies(transformed_df[col], prefix=col)], axis=1)\n",
    "    #transformed_df[num_cols] = transformed_df[num_cols].apply(lambda x: np.log1p(x))\n",
    "\n",
    "    num_cols.drop('pricelog')\n",
    "    scaler = MinMaxScaler()\n",
    "    transformed_df[num_cols] = scaler.fit_transform(transformed_df[num_cols])\n",
    "\n",
    "    return transformed_df"
   ]
  },
  {
   "cell_type": "code",
   "execution_count": 25,
   "metadata": {
    "ExecuteTime": {
     "end_time": "2020-05-31T15:32:48.075032Z",
     "start_time": "2020-05-31T15:32:48.065790Z"
    }
   },
   "outputs": [],
   "source": [
    "X_train.columns = X_train.columns.str.normalize('NFKD').str.encode('ascii', errors='ignore').str.decode('utf-8')"
   ]
  },
  {
   "cell_type": "code",
   "execution_count": 29,
   "metadata": {
    "ExecuteTime": {
     "end_time": "2020-05-31T15:34:00.415593Z",
     "start_time": "2020-05-31T15:34:00.406133Z"
    }
   },
   "outputs": [],
   "source": [
    "X_train.columns = [\"\".join (c if c.isalnum() else \"_\" for c in str(x)) for x in X_train.columns]"
   ]
  },
  {
   "cell_type": "code",
   "execution_count": 30,
   "metadata": {
    "ExecuteTime": {
     "end_time": "2020-05-31T15:34:00.871513Z",
     "start_time": "2020-05-31T15:34:00.856980Z"
    }
   },
   "outputs": [
    {
     "data": {
      "text/plain": [
       "Index(['latitude', 'longitude', 'minimum_nights', 'number_of_reviews',\n",
       "       'reviews_per_month', 'calculated_host_listings_count',\n",
       "       'availability_365', 'neighbourhood_group_Ciutat_Vella',\n",
       "       'neighbourhood_group_Eixample', 'neighbourhood_group_Gracia',\n",
       "       'neighbourhood_group_Horta_Guinardo', 'neighbourhood_group_Les_Corts',\n",
       "       'neighbourhood_group_Nou_Barris', 'neighbourhood_group_Sant_Andreu',\n",
       "       'neighbourhood_group_Sant_Marti', 'neighbourhood_group_Sants_Montjuic',\n",
       "       'neighbourhood_group_Sarria_Sant_Gervasi', 'neighbourhood_Can_Baro',\n",
       "       'neighbourhood_Can_Peguera', 'neighbourhood_Canyelles',\n",
       "       'neighbourhood_Ciutat_Meridiana',\n",
       "       'neighbourhood_Diagonal_Mar_i_el_Front_Maritim_del_Poblenou',\n",
       "       'neighbourhood_Horta', 'neighbourhood_Hostafrancs',\n",
       "       'neighbourhood_Montbau', 'neighbourhood_Navas',\n",
       "       'neighbourhood_Pedralbes', 'neighbourhood_Porta',\n",
       "       'neighbourhood_Provencals_del_Poblenou', 'neighbourhood_Sant_Andreu',\n",
       "       'neighbourhood_Sant_Antoni', 'neighbourhood_Sant_Genis_dels_Agudells',\n",
       "       'neighbourhood_Sant_Gervasi___Galvany',\n",
       "       'neighbourhood_Sant_Gervasi___la_Bonanova',\n",
       "       'neighbourhood_Sant_Marti_de_Provencals',\n",
       "       'neighbourhood_Sant_Pere__Santa_Caterina_i_la_Ribera',\n",
       "       'neighbourhood_Sants', 'neighbourhood_Sants___Badal',\n",
       "       'neighbourhood_Sarria', 'neighbourhood_Torre_Baro',\n",
       "       'neighbourhood_Vallcarca_i_els_Penitents',\n",
       "       'neighbourhood_Vallvidrera__el_Tibidabo_i_les_Planes',\n",
       "       'neighbourhood_Verdun', 'neighbourhood_Vilapicina_i_la_Torre_Llobeta',\n",
       "       'neighbourhood_el_Baix_Guinardo', 'neighbourhood_el_Barri_Gotic',\n",
       "       'neighbourhood_el_Besos_i_el_Maresme', 'neighbourhood_el_Bon_Pastor',\n",
       "       'neighbourhood_el_Camp_d_en_Grassot_i_Gracia_Nova',\n",
       "       'neighbourhood_el_Camp_de_l_Arpa_del_Clot', 'neighbourhood_el_Carmel',\n",
       "       'neighbourhood_el_Clot', 'neighbourhood_el_Coll',\n",
       "       'neighbourhood_el_Congres_i_els_Indians', 'neighbourhood_el_Fort_Pienc',\n",
       "       'neighbourhood_el_Guinardo',\n",
       "       'neighbourhood_el_Parc_i_la_Llacuna_del_Poblenou',\n",
       "       'neighbourhood_el_Poble_Sec', 'neighbourhood_el_Poblenou',\n",
       "       'neighbourhood_el_Putxet_i_el_Farro', 'neighbourhood_el_Raval',\n",
       "       'neighbourhood_el_Turo_de_la_Peira',\n",
       "       'neighbourhood_l_Antiga_Esquerra_de_l_Eixample',\n",
       "       'neighbourhood_la_Barceloneta', 'neighbourhood_la_Bordeta',\n",
       "       'neighbourhood_la_Dreta_de_l_Eixample',\n",
       "       'neighbourhood_la_Font_d_en_Fargues',\n",
       "       'neighbourhood_la_Font_de_la_Guatlla', 'neighbourhood_la_Guineueta',\n",
       "       'neighbourhood_la_Marina_de_Port',\n",
       "       'neighbourhood_la_Marina_del_Prat_Vermell',\n",
       "       'neighbourhood_la_Maternitat_i_Sant_Ramon',\n",
       "       'neighbourhood_la_Nova_Esquerra_de_l_Eixample',\n",
       "       'neighbourhood_la_Prosperitat', 'neighbourhood_la_Sagrada_Familia',\n",
       "       'neighbourhood_la_Sagrera', 'neighbourhood_la_Salut',\n",
       "       'neighbourhood_la_Teixonera', 'neighbourhood_la_Trinitat_Nova',\n",
       "       'neighbourhood_la_Trinitat_Vella', 'neighbourhood_la_Vall_d_Hebron',\n",
       "       'neighbourhood_la_Verneda_i_la_Pau',\n",
       "       'neighbourhood_la_Vila_Olimpica_del_Poblenou',\n",
       "       'neighbourhood_la_Vila_de_Gracia', 'neighbourhood_les_Corts',\n",
       "       'neighbourhood_les_Roquetes', 'neighbourhood_les_Tres_Torres',\n",
       "       'room_type_Entire_home_apt', 'room_type_Hotel_room',\n",
       "       'room_type_Private_room', 'room_type_Shared_room'],\n",
       "      dtype='object')"
      ]
     },
     "execution_count": 30,
     "metadata": {},
     "output_type": "execute_result"
    }
   ],
   "source": [
    "X_train.columns"
   ]
  },
  {
   "cell_type": "code",
   "execution_count": 31,
   "metadata": {
    "ExecuteTime": {
     "end_time": "2020-05-31T15:34:02.657744Z",
     "start_time": "2020-05-31T15:34:02.184994Z"
    }
   },
   "outputs": [
    {
     "name": "stdout",
     "output_type": "stream",
     "text": [
      "---------------LGBMRegressor-------------------\n",
      "MAE: 0.332553\n",
      "RMSE: 0.434122\n",
      "R2 0.505751\n"
     ]
    }
   ],
   "source": [
    "model = LGBMRegressor()\n",
    "\n",
    "model.fit(X_train, y_train)  \n",
    "y_test_lgbm = model.predict(X_test) \n",
    "\n",
    "print('---------------LGBMRegressor-------------------')\n",
    "\n",
    "print('MAE: %f' % mean_absolute_error(y_test,y_test_lgbm)) #RMSE\n",
    "print('RMSE: %f' % np.sqrt(mean_squared_error(y_test,y_test_lgbm))) #RMSE\n",
    "print('R2 %f' % r2_score(y_test, y_test_lgbm))"
   ]
  },
  {
   "cell_type": "code",
   "execution_count": null,
   "metadata": {},
   "outputs": [],
   "source": [
    "model = LGBMRegressor()\n",
    "\n",
    "model.fit(X_train, y_train)  \n",
    "y_test_lgbm = model.predict(X_test) \n",
    "\n",
    "print('---------------LGBMRegressor-------------------')\n",
    "\n",
    "print('MAE: %f' % mean_absolute_error(y_test,y_test_lgbm)) #RMSE\n",
    "print('RMSE: %f' % np.sqrt(mean_squared_error(y_test,y_test_lgbm))) #RMSE\n",
    "print('R2 %f' % r2_score(y_test, y_test_lgbm))"
   ]
  },
  {
   "cell_type": "code",
   "execution_count": null,
   "metadata": {
    "ExecuteTime": {
     "start_time": "2020-05-31T21:15:24.004Z"
    }
   },
   "outputs": [],
   "source": [
    "svr = SVR(kernel='linear')\n",
    "model.fit(X_train, y_train)  \n",
    "y_test_svr = model.predict(X_test) \n",
    "\n",
    "print('---------------LGBMRegressor-------------------')\n",
    "\n",
    "print('MAE: %f' % mean_absolute_error(y_test,y_test_svr)) #RMSE\n",
    "print('RMSE: %f' % np.sqrt(mean_squared_error(y_test,y_test_svr))) #RMSE\n",
    "print('R2 %f' % r2_score(y_test, y_test_svr))"
   ]
  },
  {
   "cell_type": "code",
   "execution_count": null,
   "metadata": {
    "ExecuteTime": {
     "start_time": "2020-05-31T15:34:05.086Z"
    }
   },
   "outputs": [
    {
     "name": "stdout",
     "output_type": "stream",
     "text": [
      "5-fold cross validation scores:\n",
      "\n"
     ]
    }
   ],
   "source": [
    "from mlxtend.regressor import StackingCVRegressor\n",
    "from sklearn.svm import SVR\n",
    "from sklearn.linear_model import Lasso\n",
    "from sklearn.ensemble import RandomForestRegressor\n",
    "from sklearn.model_selection import cross_val_score\n",
    "import numpy as np\n",
    "\n",
    "RANDOM_SEED = 42\n",
    "\n",
    "svr = SVR(kernel='linear')\n",
    "lasso = Lasso()\n",
    "rf = RandomForestRegressor(n_estimators=5, \n",
    "                           random_state=RANDOM_SEED)\n",
    "\n",
    "# Starting from v0.16.0, StackingCVRegressor supports\n",
    "# `random_state` to get deterministic result.\n",
    "stack = StackingCVRegressor(regressors=(svr, lasso, rf),\n",
    "                            meta_regressor=lasso,\n",
    "                            random_state=RANDOM_SEED)\n",
    "\n",
    "print('5-fold cross validation scores:\\n')\n",
    "\n",
    "for clf, label in zip([svr, lasso, rf, stack], ['SVM', 'Lasso', \n",
    "                                                'Random Forest', \n",
    "                                                'StackingCVRegressor']):\n",
    "    scores = cross_val_score(clf, X, y, cv=5)\n",
    "    print(\"R^2 Score: %0.2f (+/- %0.2f) [%s]\" % (\n",
    "        scores.mean(), scores.std(), label))"
   ]
  },
  {
   "cell_type": "code",
   "execution_count": null,
   "metadata": {
    "ExecuteTime": {
     "start_time": "2020-05-31T12:51:19.066Z"
    }
   },
   "outputs": [],
   "source": [
    "models = [LinearRegression, Ridge, Lasso, ElasticNet, SVR, RandomForestRegressor]\n",
    "stack = StackingCVRegressor(models, meta_regressor = LinearRegression(), cv=10)\n",
    "stack.fit(X_train.values, y_train.ravel())\n",
    "\n",
    "y_pred_stack=stack.predict(X_test.values)    "
   ]
  },
  {
   "cell_type": "code",
   "execution_count": null,
   "metadata": {},
   "outputs": [],
   "source": []
  },
  {
   "cell_type": "code",
   "execution_count": null,
   "metadata": {},
   "outputs": [],
   "source": []
  },
  {
   "cell_type": "markdown",
   "metadata": {},
   "source": [
    "# Phase 2 - Without All Features\n",
    "\n",
    "- neighbourhood_group and room_type features will be dropped"
   ]
  },
  {
   "cell_type": "code",
   "execution_count": null,
   "metadata": {
    "ExecuteTime": {
     "end_time": "2020-05-30T10:07:24.258803Z",
     "start_time": "2020-05-30T10:07:24.249450Z"
    }
   },
   "outputs": [],
   "source": []
  },
  {
   "cell_type": "code",
   "execution_count": null,
   "metadata": {
    "ExecuteTime": {
     "start_time": "2020-05-30T17:11:12.942Z"
    }
   },
   "outputs": [],
   "source": [
    "X.columns"
   ]
  },
  {
   "cell_type": "code",
   "execution_count": null,
   "metadata": {
    "ExecuteTime": {
     "start_time": "2020-05-30T17:11:12.945Z"
    }
   },
   "outputs": [],
   "source": [
    "X_train, X_test, y_train, y_test = train_test_split(X, y, test_size=0.3,random_state=42)"
   ]
  },
  {
   "cell_type": "code",
   "execution_count": null,
   "metadata": {},
   "outputs": [],
   "source": []
  },
  {
   "cell_type": "code",
   "execution_count": 14,
   "metadata": {
    "ExecuteTime": {
     "end_time": "2020-05-31T15:29:50.160020Z",
     "start_time": "2020-05-31T15:29:43.811724Z"
    }
   },
   "outputs": [
    {
     "data": {
      "image/png": "[encoded data removed]",
      "text/plain": [
       "<Figure size 504x504 with 1 Axes>"
      ]
     },
     "metadata": {
      "needs_background": "light"
     },
     "output_type": "display_data"
    }
   ],
   "source": [
    "# change order of print values\n",
    "\n",
    "from sklearn.ensemble import ExtraTreesRegressor\n",
    "\n",
    "lab_enc = preprocessing.LabelEncoder()\n",
    "\n",
    "feature_model = ExtraTreesRegressor(n_estimators=50)\n",
    "feature_model.fit(X_train,lab_enc.fit_transform(y_train))\n",
    "\n",
    "plt.figure(figsize=(7,7))\n",
    "feat_importances = pd.Series(feature_model.feature_importances_, index=X.columns)\n",
    "feat_importances.nlargest(10).plot(kind='barh')\n",
    "plt.show()"
   ]
  }
 ],
 "metadata": {
  "kernelspec": {
   "display_name": "Python 3",
   "language": "python",
   "name": "python3"
  },
  "language_info": {
   "codemirror_mode": {
    "name": "ipython",
    "version": 3
   },
   "file_extension": ".py",
   "mimetype": "text/x-python",
   "name": "python",
   "nbconvert_exporter": "python",
   "pygments_lexer": "ipython3",
   "version": "3.8.2"
  }
 },
 "nbformat": 4,
 "nbformat_minor": 4
}
