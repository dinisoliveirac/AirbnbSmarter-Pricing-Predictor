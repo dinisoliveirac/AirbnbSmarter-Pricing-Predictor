{
 "cells": [
  {
   "cell_type": "code",
   "execution_count": 1,
   "metadata": {
    "ExecuteTime": {
     "end_time": "2020-05-23T11:01:01.829419Z",
     "start_time": "2020-05-23T11:01:01.817627Z"
    }
   },
   "outputs": [],
   "source": [
    "# One hot encoding- Neighbourhood_group, neighbourhood, room_type\n",
    "# standardize dataset\n",
    "# <100K samples and few features: Lasso, ElasticNet\n",
    "# <100K samples and more features: RidgeRegressor, SVR (linear) \n",
    "# RandomForestRegressor and Logistic Regression"
   ]
  },
  {
   "cell_type": "code",
   "execution_count": 20,
   "metadata": {
    "ExecuteTime": {
     "end_time": "2020-05-23T11:05:34.273970Z",
     "start_time": "2020-05-23T11:05:34.028369Z"
    }
   },
   "outputs": [],
   "source": [
    "import pandas as pd\n",
    "import numpy as np\n",
    "import matplotlib.pyplot as plt\n",
    "import seaborn as sns"
   ]
  },
  {
   "cell_type": "code",
   "execution_count": 6,
   "metadata": {
    "ExecuteTime": {
     "end_time": "2020-05-23T11:03:40.492358Z",
     "start_time": "2020-05-23T11:03:40.396333Z"
    }
   },
   "outputs": [],
   "source": [
    "clean_sum_listings = pd.read_csv('clean_sum_listings.csv')"
   ]
  },
  {
   "cell_type": "code",
   "execution_count": 7,
   "metadata": {
    "ExecuteTime": {
     "end_time": "2020-05-23T11:03:41.069840Z",
     "start_time": "2020-05-23T11:03:41.039574Z"
    }
   },
   "outputs": [
    {
     "data": {
      "text/plain": [
       "Index(['Unnamed: 0', 'name', 'host_id', 'neighbourhood_group', 'neighbourhood',\n",
       "       'latitude', 'longitude', 'room_type', 'price', 'minimum_nights',\n",
       "       'number_of_reviews', 'reviews_per_month',\n",
       "       'calculated_host_listings_count', 'availability_365'],\n",
       "      dtype='object')"
      ]
     },
     "execution_count": 7,
     "metadata": {},
     "output_type": "execute_result"
    }
   ],
   "source": [
    "clean_sum_listings.columns"
   ]
  },
  {
   "cell_type": "code",
   "execution_count": 8,
   "metadata": {
    "ExecuteTime": {
     "end_time": "2020-05-23T11:03:50.076233Z",
     "start_time": "2020-05-23T11:03:50.034793Z"
    }
   },
   "outputs": [
    {
     "data": {
      "text/html": [
       "<div>\n",
       "<style scoped>\n",
       "    .dataframe tbody tr th:only-of-type {\n",
       "        vertical-align: middle;\n",
       "    }\n",
       "\n",
       "    .dataframe tbody tr th {\n",
       "        vertical-align: top;\n",
       "    }\n",
       "\n",
       "    .dataframe thead th {\n",
       "        text-align: right;\n",
       "    }\n",
       "</style>\n",
       "<table border=\"1\" class=\"dataframe\">\n",
       "  <thead>\n",
       "    <tr style=\"text-align: right;\">\n",
       "      <th></th>\n",
       "      <th>neighbourhood_group</th>\n",
       "      <th>room_type</th>\n",
       "      <th>price</th>\n",
       "      <th>minimum_nights</th>\n",
       "      <th>number_of_reviews</th>\n",
       "      <th>reviews_per_month</th>\n",
       "      <th>calculated_host_listings_count</th>\n",
       "      <th>availability_365</th>\n",
       "    </tr>\n",
       "  </thead>\n",
       "  <tbody>\n",
       "    <tr>\n",
       "      <th>0</th>\n",
       "      <td>Ciutat Vella</td>\n",
       "      <td>Private room</td>\n",
       "      <td>60</td>\n",
       "      <td>3</td>\n",
       "      <td>2</td>\n",
       "      <td>0.05</td>\n",
       "      <td>3</td>\n",
       "      <td>90</td>\n",
       "    </tr>\n",
       "    <tr>\n",
       "      <th>1</th>\n",
       "      <td>Gràcia</td>\n",
       "      <td>Entire home/apt</td>\n",
       "      <td>66</td>\n",
       "      <td>1</td>\n",
       "      <td>94</td>\n",
       "      <td>0.83</td>\n",
       "      <td>29</td>\n",
       "      <td>331</td>\n",
       "    </tr>\n",
       "    <tr>\n",
       "      <th>2</th>\n",
       "      <td>Gràcia</td>\n",
       "      <td>Entire home/apt</td>\n",
       "      <td>140</td>\n",
       "      <td>2</td>\n",
       "      <td>63</td>\n",
       "      <td>0.59</td>\n",
       "      <td>6</td>\n",
       "      <td>329</td>\n",
       "    </tr>\n",
       "    <tr>\n",
       "      <th>3</th>\n",
       "      <td>Ciutat Vella</td>\n",
       "      <td>Private room</td>\n",
       "      <td>100</td>\n",
       "      <td>5</td>\n",
       "      <td>8</td>\n",
       "      <td>0.07</td>\n",
       "      <td>3</td>\n",
       "      <td>180</td>\n",
       "    </tr>\n",
       "    <tr>\n",
       "      <th>4</th>\n",
       "      <td>Ciutat Vella</td>\n",
       "      <td>Private room</td>\n",
       "      <td>33</td>\n",
       "      <td>2</td>\n",
       "      <td>73</td>\n",
       "      <td>0.70</td>\n",
       "      <td>1</td>\n",
       "      <td>352</td>\n",
       "    </tr>\n",
       "  </tbody>\n",
       "</table>\n",
       "</div>"
      ],
      "text/plain": [
       "  neighbourhood_group        room_type  price  minimum_nights  \\\n",
       "0        Ciutat Vella     Private room     60               3   \n",
       "1              Gràcia  Entire home/apt     66               1   \n",
       "2              Gràcia  Entire home/apt    140               2   \n",
       "3        Ciutat Vella     Private room    100               5   \n",
       "4        Ciutat Vella     Private room     33               2   \n",
       "\n",
       "   number_of_reviews  reviews_per_month  calculated_host_listings_count  \\\n",
       "0                  2               0.05                               3   \n",
       "1                 94               0.83                              29   \n",
       "2                 63               0.59                               6   \n",
       "3                  8               0.07                               3   \n",
       "4                 73               0.70                               1   \n",
       "\n",
       "   availability_365  \n",
       "0                90  \n",
       "1               331  \n",
       "2               329  \n",
       "3               180  \n",
       "4               352  "
      ]
     },
     "execution_count": 8,
     "metadata": {},
     "output_type": "execute_result"
    }
   ],
   "source": [
    "# Selecting columns with most information and removing the ones with correlation providing similar info\n",
    "# neighbourhood, latitude and longitude offer the same info\n",
    "# name and host_id don't seem relevant to train our model and might provoke overfitting\n",
    "\n",
    "listings_features = clean_sum_listings[['neighbourhood_group', 'room_type', 'price', 'minimum_nights','number_of_reviews', 'reviews_per_month', 'calculated_host_listings_count', 'availability_365']]\n",
    "listings_features.head()"
   ]
  },
  {
   "cell_type": "code",
   "execution_count": 9,
   "metadata": {
    "ExecuteTime": {
     "end_time": "2020-05-23T11:03:58.414063Z",
     "start_time": "2020-05-23T11:03:58.394415Z"
    }
   },
   "outputs": [],
   "source": [
    "# One-Hot Enconding neighbourhood_group\n",
    "dummy_neighbourhood_group = pd.get_dummies(listings_features['neighbourhood_group'])\n",
    "\n",
    "# One-Hot Enconding room_type\n",
    "dummy_roomtype =pd.get_dummies(listings_features['room_type'])"
   ]
  },
  {
   "cell_type": "code",
   "execution_count": 10,
   "metadata": {
    "ExecuteTime": {
     "end_time": "2020-05-23T11:04:03.808695Z",
     "start_time": "2020-05-23T11:04:03.751133Z"
    }
   },
   "outputs": [
    {
     "data": {
      "text/html": [
       "<div>\n",
       "<style scoped>\n",
       "    .dataframe tbody tr th:only-of-type {\n",
       "        vertical-align: middle;\n",
       "    }\n",
       "\n",
       "    .dataframe tbody tr th {\n",
       "        vertical-align: top;\n",
       "    }\n",
       "\n",
       "    .dataframe thead th {\n",
       "        text-align: right;\n",
       "    }\n",
       "</style>\n",
       "<table border=\"1\" class=\"dataframe\">\n",
       "  <thead>\n",
       "    <tr style=\"text-align: right;\">\n",
       "      <th></th>\n",
       "      <th>price</th>\n",
       "      <th>minimum_nights</th>\n",
       "      <th>number_of_reviews</th>\n",
       "      <th>reviews_per_month</th>\n",
       "      <th>calculated_host_listings_count</th>\n",
       "      <th>availability_365</th>\n",
       "      <th>Ciutat Vella</th>\n",
       "      <th>Eixample</th>\n",
       "      <th>Gràcia</th>\n",
       "      <th>Horta-Guinardó</th>\n",
       "      <th>Les Corts</th>\n",
       "      <th>Nou Barris</th>\n",
       "      <th>Sant Andreu</th>\n",
       "      <th>Sant Martí</th>\n",
       "      <th>Sants-Montjuïc</th>\n",
       "      <th>Sarrià-Sant Gervasi</th>\n",
       "      <th>Entire home/apt</th>\n",
       "      <th>Hotel room</th>\n",
       "      <th>Private room</th>\n",
       "      <th>Shared room</th>\n",
       "    </tr>\n",
       "  </thead>\n",
       "  <tbody>\n",
       "    <tr>\n",
       "      <th>0</th>\n",
       "      <td>60</td>\n",
       "      <td>3</td>\n",
       "      <td>2</td>\n",
       "      <td>0.05</td>\n",
       "      <td>3</td>\n",
       "      <td>90</td>\n",
       "      <td>1</td>\n",
       "      <td>0</td>\n",
       "      <td>0</td>\n",
       "      <td>0</td>\n",
       "      <td>0</td>\n",
       "      <td>0</td>\n",
       "      <td>0</td>\n",
       "      <td>0</td>\n",
       "      <td>0</td>\n",
       "      <td>0</td>\n",
       "      <td>0</td>\n",
       "      <td>0</td>\n",
       "      <td>1</td>\n",
       "      <td>0</td>\n",
       "    </tr>\n",
       "    <tr>\n",
       "      <th>1</th>\n",
       "      <td>66</td>\n",
       "      <td>1</td>\n",
       "      <td>94</td>\n",
       "      <td>0.83</td>\n",
       "      <td>29</td>\n",
       "      <td>331</td>\n",
       "      <td>0</td>\n",
       "      <td>0</td>\n",
       "      <td>1</td>\n",
       "      <td>0</td>\n",
       "      <td>0</td>\n",
       "      <td>0</td>\n",
       "      <td>0</td>\n",
       "      <td>0</td>\n",
       "      <td>0</td>\n",
       "      <td>0</td>\n",
       "      <td>1</td>\n",
       "      <td>0</td>\n",
       "      <td>0</td>\n",
       "      <td>0</td>\n",
       "    </tr>\n",
       "    <tr>\n",
       "      <th>2</th>\n",
       "      <td>140</td>\n",
       "      <td>2</td>\n",
       "      <td>63</td>\n",
       "      <td>0.59</td>\n",
       "      <td>6</td>\n",
       "      <td>329</td>\n",
       "      <td>0</td>\n",
       "      <td>0</td>\n",
       "      <td>1</td>\n",
       "      <td>0</td>\n",
       "      <td>0</td>\n",
       "      <td>0</td>\n",
       "      <td>0</td>\n",
       "      <td>0</td>\n",
       "      <td>0</td>\n",
       "      <td>0</td>\n",
       "      <td>1</td>\n",
       "      <td>0</td>\n",
       "      <td>0</td>\n",
       "      <td>0</td>\n",
       "    </tr>\n",
       "    <tr>\n",
       "      <th>3</th>\n",
       "      <td>100</td>\n",
       "      <td>5</td>\n",
       "      <td>8</td>\n",
       "      <td>0.07</td>\n",
       "      <td>3</td>\n",
       "      <td>180</td>\n",
       "      <td>1</td>\n",
       "      <td>0</td>\n",
       "      <td>0</td>\n",
       "      <td>0</td>\n",
       "      <td>0</td>\n",
       "      <td>0</td>\n",
       "      <td>0</td>\n",
       "      <td>0</td>\n",
       "      <td>0</td>\n",
       "      <td>0</td>\n",
       "      <td>0</td>\n",
       "      <td>0</td>\n",
       "      <td>1</td>\n",
       "      <td>0</td>\n",
       "    </tr>\n",
       "    <tr>\n",
       "      <th>4</th>\n",
       "      <td>33</td>\n",
       "      <td>2</td>\n",
       "      <td>73</td>\n",
       "      <td>0.70</td>\n",
       "      <td>1</td>\n",
       "      <td>352</td>\n",
       "      <td>1</td>\n",
       "      <td>0</td>\n",
       "      <td>0</td>\n",
       "      <td>0</td>\n",
       "      <td>0</td>\n",
       "      <td>0</td>\n",
       "      <td>0</td>\n",
       "      <td>0</td>\n",
       "      <td>0</td>\n",
       "      <td>0</td>\n",
       "      <td>0</td>\n",
       "      <td>0</td>\n",
       "      <td>1</td>\n",
       "      <td>0</td>\n",
       "    </tr>\n",
       "    <tr>\n",
       "      <th>...</th>\n",
       "      <td>...</td>\n",
       "      <td>...</td>\n",
       "      <td>...</td>\n",
       "      <td>...</td>\n",
       "      <td>...</td>\n",
       "      <td>...</td>\n",
       "      <td>...</td>\n",
       "      <td>...</td>\n",
       "      <td>...</td>\n",
       "      <td>...</td>\n",
       "      <td>...</td>\n",
       "      <td>...</td>\n",
       "      <td>...</td>\n",
       "      <td>...</td>\n",
       "      <td>...</td>\n",
       "      <td>...</td>\n",
       "      <td>...</td>\n",
       "      <td>...</td>\n",
       "      <td>...</td>\n",
       "      <td>...</td>\n",
       "    </tr>\n",
       "    <tr>\n",
       "      <th>15748</th>\n",
       "      <td>20</td>\n",
       "      <td>1</td>\n",
       "      <td>0</td>\n",
       "      <td>0.00</td>\n",
       "      <td>5</td>\n",
       "      <td>365</td>\n",
       "      <td>1</td>\n",
       "      <td>0</td>\n",
       "      <td>0</td>\n",
       "      <td>0</td>\n",
       "      <td>0</td>\n",
       "      <td>0</td>\n",
       "      <td>0</td>\n",
       "      <td>0</td>\n",
       "      <td>0</td>\n",
       "      <td>0</td>\n",
       "      <td>0</td>\n",
       "      <td>0</td>\n",
       "      <td>1</td>\n",
       "      <td>0</td>\n",
       "    </tr>\n",
       "    <tr>\n",
       "      <th>15749</th>\n",
       "      <td>30</td>\n",
       "      <td>4</td>\n",
       "      <td>0</td>\n",
       "      <td>0.00</td>\n",
       "      <td>5</td>\n",
       "      <td>365</td>\n",
       "      <td>0</td>\n",
       "      <td>1</td>\n",
       "      <td>0</td>\n",
       "      <td>0</td>\n",
       "      <td>0</td>\n",
       "      <td>0</td>\n",
       "      <td>0</td>\n",
       "      <td>0</td>\n",
       "      <td>0</td>\n",
       "      <td>0</td>\n",
       "      <td>0</td>\n",
       "      <td>0</td>\n",
       "      <td>1</td>\n",
       "      <td>0</td>\n",
       "    </tr>\n",
       "    <tr>\n",
       "      <th>15750</th>\n",
       "      <td>100</td>\n",
       "      <td>31</td>\n",
       "      <td>0</td>\n",
       "      <td>0.00</td>\n",
       "      <td>1</td>\n",
       "      <td>89</td>\n",
       "      <td>0</td>\n",
       "      <td>0</td>\n",
       "      <td>0</td>\n",
       "      <td>0</td>\n",
       "      <td>0</td>\n",
       "      <td>0</td>\n",
       "      <td>0</td>\n",
       "      <td>1</td>\n",
       "      <td>0</td>\n",
       "      <td>0</td>\n",
       "      <td>1</td>\n",
       "      <td>0</td>\n",
       "      <td>0</td>\n",
       "      <td>0</td>\n",
       "    </tr>\n",
       "    <tr>\n",
       "      <th>15751</th>\n",
       "      <td>28</td>\n",
       "      <td>6</td>\n",
       "      <td>0</td>\n",
       "      <td>0.00</td>\n",
       "      <td>1</td>\n",
       "      <td>143</td>\n",
       "      <td>1</td>\n",
       "      <td>0</td>\n",
       "      <td>0</td>\n",
       "      <td>0</td>\n",
       "      <td>0</td>\n",
       "      <td>0</td>\n",
       "      <td>0</td>\n",
       "      <td>0</td>\n",
       "      <td>0</td>\n",
       "      <td>0</td>\n",
       "      <td>0</td>\n",
       "      <td>0</td>\n",
       "      <td>1</td>\n",
       "      <td>0</td>\n",
       "    </tr>\n",
       "    <tr>\n",
       "      <th>15752</th>\n",
       "      <td>59</td>\n",
       "      <td>30</td>\n",
       "      <td>0</td>\n",
       "      <td>0.00</td>\n",
       "      <td>1</td>\n",
       "      <td>355</td>\n",
       "      <td>0</td>\n",
       "      <td>1</td>\n",
       "      <td>0</td>\n",
       "      <td>0</td>\n",
       "      <td>0</td>\n",
       "      <td>0</td>\n",
       "      <td>0</td>\n",
       "      <td>0</td>\n",
       "      <td>0</td>\n",
       "      <td>0</td>\n",
       "      <td>1</td>\n",
       "      <td>0</td>\n",
       "      <td>0</td>\n",
       "      <td>0</td>\n",
       "    </tr>\n",
       "  </tbody>\n",
       "</table>\n",
       "<p>15753 rows × 20 columns</p>\n",
       "</div>"
      ],
      "text/plain": [
       "       price  minimum_nights  number_of_reviews  reviews_per_month  \\\n",
       "0         60               3                  2               0.05   \n",
       "1         66               1                 94               0.83   \n",
       "2        140               2                 63               0.59   \n",
       "3        100               5                  8               0.07   \n",
       "4         33               2                 73               0.70   \n",
       "...      ...             ...                ...                ...   \n",
       "15748     20               1                  0               0.00   \n",
       "15749     30               4                  0               0.00   \n",
       "15750    100              31                  0               0.00   \n",
       "15751     28               6                  0               0.00   \n",
       "15752     59              30                  0               0.00   \n",
       "\n",
       "       calculated_host_listings_count  availability_365  Ciutat Vella  \\\n",
       "0                                   3                90             1   \n",
       "1                                  29               331             0   \n",
       "2                                   6               329             0   \n",
       "3                                   3               180             1   \n",
       "4                                   1               352             1   \n",
       "...                               ...               ...           ...   \n",
       "15748                               5               365             1   \n",
       "15749                               5               365             0   \n",
       "15750                               1                89             0   \n",
       "15751                               1               143             1   \n",
       "15752                               1               355             0   \n",
       "\n",
       "       Eixample  Gràcia  Horta-Guinardó  Les Corts  Nou Barris  Sant Andreu  \\\n",
       "0             0       0               0          0           0            0   \n",
       "1             0       1               0          0           0            0   \n",
       "2             0       1               0          0           0            0   \n",
       "3             0       0               0          0           0            0   \n",
       "4             0       0               0          0           0            0   \n",
       "...         ...     ...             ...        ...         ...          ...   \n",
       "15748         0       0               0          0           0            0   \n",
       "15749         1       0               0          0           0            0   \n",
       "15750         0       0               0          0           0            0   \n",
       "15751         0       0               0          0           0            0   \n",
       "15752         1       0               0          0           0            0   \n",
       "\n",
       "       Sant Martí  Sants-Montjuïc  Sarrià-Sant Gervasi  Entire home/apt  \\\n",
       "0               0               0                    0                0   \n",
       "1               0               0                    0                1   \n",
       "2               0               0                    0                1   \n",
       "3               0               0                    0                0   \n",
       "4               0               0                    0                0   \n",
       "...           ...             ...                  ...              ...   \n",
       "15748           0               0                    0                0   \n",
       "15749           0               0                    0                0   \n",
       "15750           1               0                    0                1   \n",
       "15751           0               0                    0                0   \n",
       "15752           0               0                    0                1   \n",
       "\n",
       "       Hotel room  Private room  Shared room  \n",
       "0               0             1            0  \n",
       "1               0             0            0  \n",
       "2               0             0            0  \n",
       "3               0             1            0  \n",
       "4               0             1            0  \n",
       "...           ...           ...          ...  \n",
       "15748           0             1            0  \n",
       "15749           0             1            0  \n",
       "15750           0             0            0  \n",
       "15751           0             1            0  \n",
       "15752           0             0            0  \n",
       "\n",
       "[15753 rows x 20 columns]"
      ]
     },
     "execution_count": 10,
     "metadata": {},
     "output_type": "execute_result"
    }
   ],
   "source": [
    "# Concatenating the two dummy dataframes into the original listing_features\n",
    "listings_features = pd.concat([listings_features,dummy_neighbourhood_group,dummy_roomtype],axis=1)\n",
    "listings_features.drop(['neighbourhood_group','room_type'],axis=1, inplace=True)\n",
    "listings_features"
   ]
  },
  {
   "cell_type": "code",
   "execution_count": 11,
   "metadata": {
    "ExecuteTime": {
     "end_time": "2020-05-23T11:04:13.155981Z",
     "start_time": "2020-05-23T11:04:11.281442Z"
    }
   },
   "outputs": [
    {
     "data": {
      "text/plain": [
       "((12602, 19), (3151, 19))"
      ]
     },
     "execution_count": 11,
     "metadata": {},
     "output_type": "execute_result"
    }
   ],
   "source": [
    "# let's separate the data into training and testing set\n",
    "\n",
    "from sklearn.model_selection import train_test_split\n",
    "\n",
    "# let's separate the data into training and testing set\n",
    "X_train, X_test, y_train, y_test = train_test_split(listings_features.drop('price', axis=1),\n",
    "                                                    clean_sum_listings['price'],\n",
    "                                                    test_size=0.2,\n",
    "                                                    random_state=42)\n",
    "\n",
    "X_train.shape, X_test.shape"
   ]
  },
  {
   "cell_type": "code",
   "execution_count": 12,
   "metadata": {
    "ExecuteTime": {
     "end_time": "2020-05-23T11:04:16.044898Z",
     "start_time": "2020-05-23T11:04:16.036886Z"
    }
   },
   "outputs": [
    {
     "data": {
      "text/plain": [
       "Index(['minimum_nights', 'number_of_reviews', 'reviews_per_month',\n",
       "       'calculated_host_listings_count', 'availability_365', 'Ciutat Vella',\n",
       "       'Eixample', 'Gràcia', 'Horta-Guinardó', 'Les Corts', 'Nou Barris',\n",
       "       'Sant Andreu', 'Sant Martí', 'Sants-Montjuïc', 'Sarrià-Sant Gervasi',\n",
       "       'Entire home/apt', 'Hotel room', 'Private room', 'Shared room'],\n",
       "      dtype='object')"
      ]
     },
     "execution_count": 12,
     "metadata": {},
     "output_type": "execute_result"
    }
   ],
   "source": [
    "listings_features.columns[1:]"
   ]
  },
  {
   "cell_type": "code",
   "execution_count": 13,
   "metadata": {
    "ExecuteTime": {
     "end_time": "2020-05-23T11:04:29.263424Z",
     "start_time": "2020-05-23T11:04:29.176291Z"
    }
   },
   "outputs": [],
   "source": [
    "from sklearn.linear_model import LinearRegression, LassoCV, RidgeCV\n",
    "from sklearn.preprocessing import StandardScaler, MinMaxScaler, MaxAbsScaler, RobustScaler"
   ]
  },
  {
   "cell_type": "code",
   "execution_count": 14,
   "metadata": {
    "ExecuteTime": {
     "end_time": "2020-05-23T11:04:35.067563Z",
     "start_time": "2020-05-23T11:04:35.059208Z"
    }
   },
   "outputs": [],
   "source": [
    "# let's compare the variable distributions before and after scaling\n",
    "\n",
    "def plot_scaling(X_train, X_train_scaled):\n",
    "\n",
    "    fig, (ax1, ax2) = plt.subplots(ncols=2, figsize=(12, 5))\n",
    "\n",
    "    X_train_scaled = pd.DataFrame(X_train_scaled, columns=listings_features.columns[1:])\n",
    "\n",
    "    # before scaling\n",
    "    ax1.set_title('Before Scaling')\n",
    "#    sns.kdeplot(X_train['minimum_nights'], ax=ax1)\n",
    "    sns.kdeplot(X_train['number_of_reviews'], ax=ax1)\n",
    "    sns.kdeplot(X_train['reviews_per_month'], ax=ax1)\n",
    "#    sns.kdeplot(X_train['calculated_host_listings_count'], ax=ax1)\n",
    "#    sns.kdeplot(X_train['availability_365'], ax=ax1)\n",
    "\n",
    "    # after scaling\n",
    "    ax2.set_title('After Standard Scaling')\n",
    "#    sns.kdeplot(X_train_scaled['minimum_nights'], ax=ax2)\n",
    "    sns.kdeplot(X_train_scaled['number_of_reviews'], ax=ax2)\n",
    "    sns.kdeplot(X_train_scaled['reviews_per_month'], ax=ax2)\n",
    "#    sns.kdeplot(X_train_scaled['calculated_host_listings_count'], ax=ax1)\n",
    "#    sns.kdeplot(X_train_scaled['availability_365'], ax=ax1)\n",
    "    plt.show()"
   ]
  },
  {
   "cell_type": "markdown",
   "metadata": {
    "ExecuteTime": {
     "end_time": "2020-05-23T11:04:48.742140Z",
     "start_time": "2020-05-23T11:04:48.738933Z"
    }
   },
   "source": [
    "### StandardScaler"
   ]
  },
  {
   "cell_type": "code",
   "execution_count": 21,
   "metadata": {
    "ExecuteTime": {
     "end_time": "2020-05-23T11:05:37.000011Z",
     "start_time": "2020-05-23T11:05:36.961906Z"
    }
   },
   "outputs": [],
   "source": [
    "scaler = StandardScaler()\n",
    "\n",
    "# fit the scaler to the train set, it will learn the parameters\n",
    "scaler.fit(X_train)\n",
    "\n",
    "# transform train and test sets\n",
    "X_train_scaled = scaler.transform(X_train)\n",
    "X_test_scaled = scaler.transform(X_test)"
   ]
  },
  {
   "cell_type": "code",
   "execution_count": 22,
   "metadata": {
    "ExecuteTime": {
     "end_time": "2020-05-23T11:05:37.859984Z",
     "start_time": "2020-05-23T11:05:37.235396Z"
    }
   },
   "outputs": [
    {
     "data": {
      "image/png": "[encoded data removed]",
      "text/plain": [
       "<Figure size 864x360 with 2 Axes>"
      ]
     },
     "metadata": {
      "needs_background": "light"
     },
     "output_type": "display_data"
    }
   ],
   "source": [
    "plot_scaling(X_train, X_train_scaled)"
   ]
  },
  {
   "cell_type": "code",
   "execution_count": 23,
   "metadata": {
    "ExecuteTime": {
     "end_time": "2020-05-23T11:05:47.518562Z",
     "start_time": "2020-05-23T11:05:46.854179Z"
    }
   },
   "outputs": [
    {
     "data": {
      "image/png": "[encoded data removed]",
      "text/plain": [
       "<Figure size 864x360 with 2 Axes>"
      ]
     },
     "metadata": {
      "needs_background": "light"
     },
     "output_type": "display_data"
    }
   ],
   "source": [
    "plot_scaling(X_test, X_test_scaled)"
   ]
  },
  {
   "cell_type": "markdown",
   "metadata": {
    "ExecuteTime": {
     "end_time": "2020-05-23T11:05:58.633959Z",
     "start_time": "2020-05-23T11:05:58.630278Z"
    }
   },
   "source": [
    "### RobustScaler"
   ]
  },
  {
   "cell_type": "code",
   "execution_count": 25,
   "metadata": {
    "ExecuteTime": {
     "end_time": "2020-05-23T11:06:01.938524Z",
     "start_time": "2020-05-23T11:06:01.932491Z"
    }
   },
   "outputs": [],
   "source": [
    "# As StandardScaler, MinMaxScaler is very sensitive to the presence of outliers\n",
    "\n",
    "# Robust Scaler - the centering and scaling statistics of this scaler are based on percentiles and are \n",
    "# therefore not influenced by a few number of very large marginal outliers."
   ]
  },
  {
   "cell_type": "code",
   "execution_count": 26,
   "metadata": {
    "ExecuteTime": {
     "end_time": "2020-05-23T11:06:07.433062Z",
     "start_time": "2020-05-23T11:06:07.401056Z"
    }
   },
   "outputs": [],
   "source": [
    "# RobustScaler transforms the feature vector by subtracting the median and then \n",
    "# dividing by the interquartile range (75% value — 25% value)\n",
    "\n",
    "from sklearn.preprocessing import RobustScaler\n",
    "\n",
    "robust = RobustScaler()\n",
    "\n",
    "# fit the RobustScaler to the train set, it will learn the parameters\n",
    "robust.fit(X_train)\n",
    "\n",
    "# transform train and test sets\n",
    "X_train_scaled = robust.transform(X_train)\n",
    "X_test_scaled = robust.transform(X_test)"
   ]
  },
  {
   "cell_type": "code",
   "execution_count": 27,
   "metadata": {
    "ExecuteTime": {
     "end_time": "2020-05-23T11:06:12.124233Z",
     "start_time": "2020-05-23T11:06:11.463214Z"
    }
   },
   "outputs": [
    {
     "data": {
      "image/png": "[encoded data removed]",
      "text/plain": [
       "<Figure size 864x360 with 2 Axes>"
      ]
     },
     "metadata": {
      "needs_background": "light"
     },
     "output_type": "display_data"
    }
   ],
   "source": [
    "plot_scaling(X_train, X_train_scaled)"
   ]
  },
  {
   "cell_type": "code",
   "execution_count": 28,
   "metadata": {
    "ExecuteTime": {
     "end_time": "2020-05-23T11:06:18.015361Z",
     "start_time": "2020-05-23T11:06:17.365973Z"
    }
   },
   "outputs": [
    {
     "data": {
      "image/png": "[encoded data removed]",
      "text/plain": [
       "<Figure size 864x360 with 2 Axes>"
      ]
     },
     "metadata": {
      "needs_background": "light"
     },
     "output_type": "display_data"
    }
   ],
   "source": [
    "plot_scaling(X_test, X_test_scaled)"
   ]
  },
  {
   "cell_type": "code",
   "execution_count": null,
   "metadata": {},
   "outputs": [],
   "source": []
  }
 ],
 "metadata": {
  "kernelspec": {
   "display_name": "Python 3",
   "language": "python",
   "name": "python3"
  },
  "language_info": {
   "codemirror_mode": {
    "name": "ipython",
    "version": 3
   },
   "file_extension": ".py",
   "mimetype": "text/x-python",
   "name": "python",
   "nbconvert_exporter": "python",
   "pygments_lexer": "ipython3",
   "version": "3.8.2"
  }
 },
 "nbformat": 4,
 "nbformat_minor": 4
}
