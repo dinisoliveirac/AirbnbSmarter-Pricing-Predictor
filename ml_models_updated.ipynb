{
 "cells": [
  {
   "cell_type": "markdown",
   "metadata": {},
   "source": [
    "![Airbnb logo](https://japanesquest.com/wp-content/uploads/2017/10/airbnb-logo.png)"
   ]
  },
  {
   "cell_type": "code",
   "execution_count": 1,
   "metadata": {
    "ExecuteTime": {
     "end_time": "2020-05-29T21:17:19.485473Z",
     "start_time": "2020-05-29T21:17:19.481812Z"
    }
   },
   "outputs": [],
   "source": [
    "# To-do List\n",
    "# 18.1.1.FeatureEngineering and 18.2.1.FeatureEngineering\n",
    "# SVR (linear) "
   ]
  },
  {
   "cell_type": "code",
   "execution_count": 65,
   "metadata": {
    "ExecuteTime": {
     "end_time": "2020-05-29T22:59:36.725090Z",
     "start_time": "2020-05-29T22:59:36.713423Z"
    }
   },
   "outputs": [],
   "source": [
    "import pandas as pd\n",
    "import numpy as np\n",
    "import matplotlib.pyplot as plt\n",
    "import seaborn as sns\n",
    "\n",
    "# Machine Learning\n",
    "import sklearn\n",
    "from sklearn import preprocessing\n",
    "from sklearn import metrics\n",
    "from sklearn.metrics import r2_score, mean_absolute_error\n",
    "from sklearn.preprocessing import LabelEncoder,OneHotEncoder\n",
    "from sklearn.model_selection import train_test_split\n",
    "from sklearn.linear_model import LinearRegression, Ridge, Lasso, ElasticNet, RidgeCV, LassoCV, ElasticNetCV\n",
    "from sklearn.ensemble import RandomForestRegressor,  GradientBoostingRegressor\n",
    "\n",
    "from sklearn.preprocessing import PolynomialFeatures, StandardScaler\n",
    "from sklearn.preprocessing import RobustScaler\n",
    "\n",
    "from sklearn.metrics import mean_squared_error"
   ]
  },
  {
   "cell_type": "code",
   "execution_count": 2,
   "metadata": {
    "ExecuteTime": {
     "end_time": "2020-05-29T21:19:54.592096Z",
     "start_time": "2020-05-29T21:19:54.518583Z"
    }
   },
   "outputs": [],
   "source": [
    "clean_sum_listings = pd.read_csv('clean_sum_listings.csv')"
   ]
  },
  {
   "cell_type": "code",
   "execution_count": 3,
   "metadata": {
    "ExecuteTime": {
     "end_time": "2020-05-29T21:19:54.607210Z",
     "start_time": "2020-05-29T21:19:54.599085Z"
    }
   },
   "outputs": [
    {
     "data": {
      "text/plain": [
       "Index(['Unnamed: 0', 'name', 'host_id', 'neighbourhood_group', 'neighbourhood',\n",
       "       'latitude', 'longitude', 'room_type', 'price', 'minimum_nights',\n",
       "       'number_of_reviews', 'reviews_per_month',\n",
       "       'calculated_host_listings_count', 'availability_365'],\n",
       "      dtype='object')"
      ]
     },
     "execution_count": 3,
     "metadata": {},
     "output_type": "execute_result"
    }
   ],
   "source": [
    "clean_sum_listings.columns"
   ]
  },
  {
   "cell_type": "markdown",
   "metadata": {},
   "source": [
    "### 1. Feature Engineering "
   ]
  },
  {
   "cell_type": "code",
   "execution_count": 143,
   "metadata": {
    "ExecuteTime": {
     "end_time": "2020-05-30T00:07:37.929648Z",
     "start_time": "2020-05-30T00:07:37.924498Z"
    }
   },
   "outputs": [],
   "source": [
    "# Since multiple variables reveal highly skewed distributions, a log transformation is applied to fix them\n",
    "# A log transformation and removal of outliers makes the distribution look much closer to normal"
   ]
  },
  {
   "cell_type": "code",
   "execution_count": 5,
   "metadata": {
    "ExecuteTime": {
     "end_time": "2020-05-29T21:19:54.652555Z",
     "start_time": "2020-05-29T21:19:54.630306Z"
    }
   },
   "outputs": [],
   "source": [
    "clean_sum_listings['price'] = np.log1p(clean_sum_listings['price'])\n",
    "clean_sum_listings['number_of_reviews'] = np.log1p(clean_sum_listings['number_of_reviews'])\n",
    "clean_sum_listings['minimum_nights']= np.log1p(clean_sum_listings['minimum_nights'])\n",
    "clean_sum_listings = clean_sum_listings.drop(['Unnamed: 0', 'host_id', 'name'], axis=1)"
   ]
  },
  {
   "cell_type": "markdown",
   "metadata": {},
   "source": [
    "### 2. Encoding Features"
   ]
  },
  {
   "cell_type": "markdown",
   "metadata": {
    "ExecuteTime": {
     "end_time": "2020-05-30T00:10:09.736311Z",
     "start_time": "2020-05-30T00:10:09.731135Z"
    }
   },
   "source": [
    "### 2.1 Encoding Categorical Features"
   ]
  },
  {
   "cell_type": "code",
   "execution_count": 144,
   "metadata": {
    "ExecuteTime": {
     "end_time": "2020-05-30T00:08:04.268916Z",
     "start_time": "2020-05-30T00:08:04.257923Z"
    }
   },
   "outputs": [
    {
     "name": "stdout",
     "output_type": "stream",
     "text": [
      "Categorical features: (15753, 3)\n"
     ]
    }
   ],
   "source": [
    "categorical_features = clean_sum_listings.select_dtypes(include=['object'])\n",
    "print('Categorical features: {}'.format(categorical_features.shape))"
   ]
  },
  {
   "cell_type": "code",
   "execution_count": 145,
   "metadata": {
    "ExecuteTime": {
     "end_time": "2020-05-30T00:08:04.657440Z",
     "start_time": "2020-05-30T00:08:04.617153Z"
    }
   },
   "outputs": [
    {
     "data": {
      "text/html": [
       "<div>\n",
       "<style scoped>\n",
       "    .dataframe tbody tr th:only-of-type {\n",
       "        vertical-align: middle;\n",
       "    }\n",
       "\n",
       "    .dataframe tbody tr th {\n",
       "        vertical-align: top;\n",
       "    }\n",
       "\n",
       "    .dataframe thead th {\n",
       "        text-align: right;\n",
       "    }\n",
       "</style>\n",
       "<table border=\"1\" class=\"dataframe\">\n",
       "  <thead>\n",
       "    <tr style=\"text-align: right;\">\n",
       "      <th></th>\n",
       "      <th>neighbourhood_group_Ciutat Vella</th>\n",
       "      <th>neighbourhood_group_Eixample</th>\n",
       "      <th>neighbourhood_group_Gràcia</th>\n",
       "      <th>neighbourhood_group_Horta-Guinardó</th>\n",
       "      <th>neighbourhood_group_Les Corts</th>\n",
       "      <th>neighbourhood_group_Nou Barris</th>\n",
       "      <th>neighbourhood_group_Sant Andreu</th>\n",
       "      <th>neighbourhood_group_Sant Martí</th>\n",
       "      <th>neighbourhood_group_Sants-Montjuïc</th>\n",
       "      <th>neighbourhood_group_Sarrià-Sant Gervasi</th>\n",
       "      <th>...</th>\n",
       "      <th>neighbourhood_la Verneda i la Pau</th>\n",
       "      <th>neighbourhood_la Vila Olímpica del Poblenou</th>\n",
       "      <th>neighbourhood_la Vila de Gràcia</th>\n",
       "      <th>neighbourhood_les Corts</th>\n",
       "      <th>neighbourhood_les Roquetes</th>\n",
       "      <th>neighbourhood_les Tres Torres</th>\n",
       "      <th>room_type_Entire home/apt</th>\n",
       "      <th>room_type_Hotel room</th>\n",
       "      <th>room_type_Private room</th>\n",
       "      <th>room_type_Shared room</th>\n",
       "    </tr>\n",
       "  </thead>\n",
       "  <tbody>\n",
       "    <tr>\n",
       "      <th>0</th>\n",
       "      <td>1</td>\n",
       "      <td>0</td>\n",
       "      <td>0</td>\n",
       "      <td>0</td>\n",
       "      <td>0</td>\n",
       "      <td>0</td>\n",
       "      <td>0</td>\n",
       "      <td>0</td>\n",
       "      <td>0</td>\n",
       "      <td>0</td>\n",
       "      <td>...</td>\n",
       "      <td>0</td>\n",
       "      <td>0</td>\n",
       "      <td>0</td>\n",
       "      <td>0</td>\n",
       "      <td>0</td>\n",
       "      <td>0</td>\n",
       "      <td>0</td>\n",
       "      <td>0</td>\n",
       "      <td>1</td>\n",
       "      <td>0</td>\n",
       "    </tr>\n",
       "    <tr>\n",
       "      <th>1</th>\n",
       "      <td>0</td>\n",
       "      <td>0</td>\n",
       "      <td>1</td>\n",
       "      <td>0</td>\n",
       "      <td>0</td>\n",
       "      <td>0</td>\n",
       "      <td>0</td>\n",
       "      <td>0</td>\n",
       "      <td>0</td>\n",
       "      <td>0</td>\n",
       "      <td>...</td>\n",
       "      <td>0</td>\n",
       "      <td>0</td>\n",
       "      <td>0</td>\n",
       "      <td>0</td>\n",
       "      <td>0</td>\n",
       "      <td>0</td>\n",
       "      <td>1</td>\n",
       "      <td>0</td>\n",
       "      <td>0</td>\n",
       "      <td>0</td>\n",
       "    </tr>\n",
       "    <tr>\n",
       "      <th>2</th>\n",
       "      <td>0</td>\n",
       "      <td>0</td>\n",
       "      <td>1</td>\n",
       "      <td>0</td>\n",
       "      <td>0</td>\n",
       "      <td>0</td>\n",
       "      <td>0</td>\n",
       "      <td>0</td>\n",
       "      <td>0</td>\n",
       "      <td>0</td>\n",
       "      <td>...</td>\n",
       "      <td>0</td>\n",
       "      <td>0</td>\n",
       "      <td>0</td>\n",
       "      <td>0</td>\n",
       "      <td>0</td>\n",
       "      <td>0</td>\n",
       "      <td>1</td>\n",
       "      <td>0</td>\n",
       "      <td>0</td>\n",
       "      <td>0</td>\n",
       "    </tr>\n",
       "    <tr>\n",
       "      <th>3</th>\n",
       "      <td>1</td>\n",
       "      <td>0</td>\n",
       "      <td>0</td>\n",
       "      <td>0</td>\n",
       "      <td>0</td>\n",
       "      <td>0</td>\n",
       "      <td>0</td>\n",
       "      <td>0</td>\n",
       "      <td>0</td>\n",
       "      <td>0</td>\n",
       "      <td>...</td>\n",
       "      <td>0</td>\n",
       "      <td>0</td>\n",
       "      <td>0</td>\n",
       "      <td>0</td>\n",
       "      <td>0</td>\n",
       "      <td>0</td>\n",
       "      <td>0</td>\n",
       "      <td>0</td>\n",
       "      <td>1</td>\n",
       "      <td>0</td>\n",
       "    </tr>\n",
       "    <tr>\n",
       "      <th>4</th>\n",
       "      <td>1</td>\n",
       "      <td>0</td>\n",
       "      <td>0</td>\n",
       "      <td>0</td>\n",
       "      <td>0</td>\n",
       "      <td>0</td>\n",
       "      <td>0</td>\n",
       "      <td>0</td>\n",
       "      <td>0</td>\n",
       "      <td>0</td>\n",
       "      <td>...</td>\n",
       "      <td>0</td>\n",
       "      <td>0</td>\n",
       "      <td>0</td>\n",
       "      <td>0</td>\n",
       "      <td>0</td>\n",
       "      <td>0</td>\n",
       "      <td>0</td>\n",
       "      <td>0</td>\n",
       "      <td>1</td>\n",
       "      <td>0</td>\n",
       "    </tr>\n",
       "  </tbody>\n",
       "</table>\n",
       "<p>5 rows × 84 columns</p>\n",
       "</div>"
      ],
      "text/plain": [
       "   neighbourhood_group_Ciutat Vella  neighbourhood_group_Eixample  \\\n",
       "0                                 1                             0   \n",
       "1                                 0                             0   \n",
       "2                                 0                             0   \n",
       "3                                 1                             0   \n",
       "4                                 1                             0   \n",
       "\n",
       "   neighbourhood_group_Gràcia  neighbourhood_group_Horta-Guinardó  \\\n",
       "0                           0                                   0   \n",
       "1                           1                                   0   \n",
       "2                           1                                   0   \n",
       "3                           0                                   0   \n",
       "4                           0                                   0   \n",
       "\n",
       "   neighbourhood_group_Les Corts  neighbourhood_group_Nou Barris  \\\n",
       "0                              0                               0   \n",
       "1                              0                               0   \n",
       "2                              0                               0   \n",
       "3                              0                               0   \n",
       "4                              0                               0   \n",
       "\n",
       "   neighbourhood_group_Sant Andreu  neighbourhood_group_Sant Martí  \\\n",
       "0                                0                               0   \n",
       "1                                0                               0   \n",
       "2                                0                               0   \n",
       "3                                0                               0   \n",
       "4                                0                               0   \n",
       "\n",
       "   neighbourhood_group_Sants-Montjuïc  \\\n",
       "0                                   0   \n",
       "1                                   0   \n",
       "2                                   0   \n",
       "3                                   0   \n",
       "4                                   0   \n",
       "\n",
       "   neighbourhood_group_Sarrià-Sant Gervasi  ...  \\\n",
       "0                                        0  ...   \n",
       "1                                        0  ...   \n",
       "2                                        0  ...   \n",
       "3                                        0  ...   \n",
       "4                                        0  ...   \n",
       "\n",
       "   neighbourhood_la Verneda i la Pau  \\\n",
       "0                                  0   \n",
       "1                                  0   \n",
       "2                                  0   \n",
       "3                                  0   \n",
       "4                                  0   \n",
       "\n",
       "   neighbourhood_la Vila Olímpica del Poblenou  \\\n",
       "0                                            0   \n",
       "1                                            0   \n",
       "2                                            0   \n",
       "3                                            0   \n",
       "4                                            0   \n",
       "\n",
       "   neighbourhood_la Vila de Gràcia  neighbourhood_les Corts  \\\n",
       "0                                0                        0   \n",
       "1                                0                        0   \n",
       "2                                0                        0   \n",
       "3                                0                        0   \n",
       "4                                0                        0   \n",
       "\n",
       "   neighbourhood_les Roquetes  neighbourhood_les Tres Torres  \\\n",
       "0                           0                              0   \n",
       "1                           0                              0   \n",
       "2                           0                              0   \n",
       "3                           0                              0   \n",
       "4                           0                              0   \n",
       "\n",
       "   room_type_Entire home/apt  room_type_Hotel room  room_type_Private room  \\\n",
       "0                          0                     0                       1   \n",
       "1                          1                     0                       0   \n",
       "2                          1                     0                       0   \n",
       "3                          0                     0                       1   \n",
       "4                          0                     0                       1   \n",
       "\n",
       "   room_type_Shared room  \n",
       "0                      0  \n",
       "1                      0  \n",
       "2                      0  \n",
       "3                      0  \n",
       "4                      0  \n",
       "\n",
       "[5 rows x 84 columns]"
      ]
     },
     "execution_count": 145,
     "metadata": {},
     "output_type": "execute_result"
    }
   ],
   "source": [
    "categorical_features_one_hot = pd.get_dummies(categorical_features)\n",
    "categorical_features_one_hot.head()"
   ]
  },
  {
   "cell_type": "markdown",
   "metadata": {
    "ExecuteTime": {
     "end_time": "2020-05-30T00:12:09.231867Z",
     "start_time": "2020-05-30T00:12:09.223793Z"
    }
   },
   "source": [
    "### 2.2 Encoding Numerical Features"
   ]
  },
  {
   "cell_type": "code",
   "execution_count": 9,
   "metadata": {
    "ExecuteTime": {
     "end_time": "2020-05-29T21:22:00.222555Z",
     "start_time": "2020-05-29T21:22:00.211197Z"
    }
   },
   "outputs": [
    {
     "name": "stdout",
     "output_type": "stream",
     "text": [
      "Numerical features: (15753, 7)\n"
     ]
    }
   ],
   "source": [
    "numerical_features =  clean_sum_listings.select_dtypes(exclude=['object'])\n",
    "y = numerical_features.price\n",
    "numerical_features = numerical_features.drop(['price'], axis=1)\n",
    "print('Numerical features: {}'.format(numerical_features.shape))"
   ]
  },
  {
   "cell_type": "code",
   "execution_count": 150,
   "metadata": {
    "ExecuteTime": {
     "end_time": "2020-05-30T00:12:30.697118Z",
     "start_time": "2020-05-30T00:12:30.678299Z"
    }
   },
   "outputs": [],
   "source": [
    "X = np.concatenate((numerical_features, categorical_features_one_hot), axis=1)\n",
    "X_df = pd.concat([numerical_features, categorical_features_one_hot], axis=1)"
   ]
  },
  {
   "cell_type": "code",
   "execution_count": 151,
   "metadata": {
    "ExecuteTime": {
     "end_time": "2020-05-30T00:12:31.105549Z",
     "start_time": "2020-05-30T00:12:31.098811Z"
    }
   },
   "outputs": [],
   "source": [
    "data = pd.concat([X_df, y], axis = 1)"
   ]
  },
  {
   "cell_type": "code",
   "execution_count": 152,
   "metadata": {
    "ExecuteTime": {
     "end_time": "2020-05-30T00:12:31.555443Z",
     "start_time": "2020-05-30T00:12:31.524423Z"
    }
   },
   "outputs": [
    {
     "data": {
      "text/html": [
       "<div>\n",
       "<style scoped>\n",
       "    .dataframe tbody tr th:only-of-type {\n",
       "        vertical-align: middle;\n",
       "    }\n",
       "\n",
       "    .dataframe tbody tr th {\n",
       "        vertical-align: top;\n",
       "    }\n",
       "\n",
       "    .dataframe thead th {\n",
       "        text-align: right;\n",
       "    }\n",
       "</style>\n",
       "<table border=\"1\" class=\"dataframe\">\n",
       "  <thead>\n",
       "    <tr style=\"text-align: right;\">\n",
       "      <th></th>\n",
       "      <th>latitude</th>\n",
       "      <th>longitude</th>\n",
       "      <th>minimum_nights</th>\n",
       "      <th>number_of_reviews</th>\n",
       "      <th>reviews_per_month</th>\n",
       "      <th>calculated_host_listings_count</th>\n",
       "      <th>availability_365</th>\n",
       "      <th>neighbourhood_group_Ciutat Vella</th>\n",
       "      <th>neighbourhood_group_Eixample</th>\n",
       "      <th>neighbourhood_group_Gràcia</th>\n",
       "      <th>...</th>\n",
       "      <th>neighbourhood_la Vila Olímpica del Poblenou</th>\n",
       "      <th>neighbourhood_la Vila de Gràcia</th>\n",
       "      <th>neighbourhood_les Corts</th>\n",
       "      <th>neighbourhood_les Roquetes</th>\n",
       "      <th>neighbourhood_les Tres Torres</th>\n",
       "      <th>room_type_Entire home/apt</th>\n",
       "      <th>room_type_Hotel room</th>\n",
       "      <th>room_type_Private room</th>\n",
       "      <th>room_type_Shared room</th>\n",
       "      <th>price</th>\n",
       "    </tr>\n",
       "  </thead>\n",
       "  <tbody>\n",
       "    <tr>\n",
       "      <th>0</th>\n",
       "      <td>41.38077</td>\n",
       "      <td>2.17551</td>\n",
       "      <td>1.386294</td>\n",
       "      <td>1.098612</td>\n",
       "      <td>0.05</td>\n",
       "      <td>3</td>\n",
       "      <td>90</td>\n",
       "      <td>1</td>\n",
       "      <td>0</td>\n",
       "      <td>0</td>\n",
       "      <td>...</td>\n",
       "      <td>0</td>\n",
       "      <td>0</td>\n",
       "      <td>0</td>\n",
       "      <td>0</td>\n",
       "      <td>0</td>\n",
       "      <td>0</td>\n",
       "      <td>0</td>\n",
       "      <td>1</td>\n",
       "      <td>0</td>\n",
       "      <td>4.110874</td>\n",
       "    </tr>\n",
       "    <tr>\n",
       "      <th>1</th>\n",
       "      <td>41.40928</td>\n",
       "      <td>2.16112</td>\n",
       "      <td>0.693147</td>\n",
       "      <td>4.553877</td>\n",
       "      <td>0.83</td>\n",
       "      <td>29</td>\n",
       "      <td>331</td>\n",
       "      <td>0</td>\n",
       "      <td>0</td>\n",
       "      <td>1</td>\n",
       "      <td>...</td>\n",
       "      <td>0</td>\n",
       "      <td>0</td>\n",
       "      <td>0</td>\n",
       "      <td>0</td>\n",
       "      <td>0</td>\n",
       "      <td>1</td>\n",
       "      <td>0</td>\n",
       "      <td>0</td>\n",
       "      <td>0</td>\n",
       "      <td>4.204693</td>\n",
       "    </tr>\n",
       "    <tr>\n",
       "      <th>2</th>\n",
       "      <td>41.40566</td>\n",
       "      <td>2.17015</td>\n",
       "      <td>1.098612</td>\n",
       "      <td>4.158883</td>\n",
       "      <td>0.59</td>\n",
       "      <td>6</td>\n",
       "      <td>329</td>\n",
       "      <td>0</td>\n",
       "      <td>0</td>\n",
       "      <td>1</td>\n",
       "      <td>...</td>\n",
       "      <td>0</td>\n",
       "      <td>0</td>\n",
       "      <td>0</td>\n",
       "      <td>0</td>\n",
       "      <td>0</td>\n",
       "      <td>1</td>\n",
       "      <td>0</td>\n",
       "      <td>0</td>\n",
       "      <td>0</td>\n",
       "      <td>4.948760</td>\n",
       "    </tr>\n",
       "    <tr>\n",
       "      <th>3</th>\n",
       "      <td>41.37916</td>\n",
       "      <td>2.17535</td>\n",
       "      <td>1.791759</td>\n",
       "      <td>2.197225</td>\n",
       "      <td>0.07</td>\n",
       "      <td>3</td>\n",
       "      <td>180</td>\n",
       "      <td>1</td>\n",
       "      <td>0</td>\n",
       "      <td>0</td>\n",
       "      <td>...</td>\n",
       "      <td>0</td>\n",
       "      <td>0</td>\n",
       "      <td>0</td>\n",
       "      <td>0</td>\n",
       "      <td>0</td>\n",
       "      <td>0</td>\n",
       "      <td>0</td>\n",
       "      <td>1</td>\n",
       "      <td>0</td>\n",
       "      <td>4.615121</td>\n",
       "    </tr>\n",
       "    <tr>\n",
       "      <th>4</th>\n",
       "      <td>41.37906</td>\n",
       "      <td>2.19141</td>\n",
       "      <td>1.098612</td>\n",
       "      <td>4.304065</td>\n",
       "      <td>0.70</td>\n",
       "      <td>1</td>\n",
       "      <td>352</td>\n",
       "      <td>1</td>\n",
       "      <td>0</td>\n",
       "      <td>0</td>\n",
       "      <td>...</td>\n",
       "      <td>0</td>\n",
       "      <td>0</td>\n",
       "      <td>0</td>\n",
       "      <td>0</td>\n",
       "      <td>0</td>\n",
       "      <td>0</td>\n",
       "      <td>0</td>\n",
       "      <td>1</td>\n",
       "      <td>0</td>\n",
       "      <td>3.526361</td>\n",
       "    </tr>\n",
       "  </tbody>\n",
       "</table>\n",
       "<p>5 rows × 92 columns</p>\n",
       "</div>"
      ],
      "text/plain": [
       "   latitude  longitude  minimum_nights  number_of_reviews  reviews_per_month  \\\n",
       "0  41.38077    2.17551        1.386294           1.098612               0.05   \n",
       "1  41.40928    2.16112        0.693147           4.553877               0.83   \n",
       "2  41.40566    2.17015        1.098612           4.158883               0.59   \n",
       "3  41.37916    2.17535        1.791759           2.197225               0.07   \n",
       "4  41.37906    2.19141        1.098612           4.304065               0.70   \n",
       "\n",
       "   calculated_host_listings_count  availability_365  \\\n",
       "0                               3                90   \n",
       "1                              29               331   \n",
       "2                               6               329   \n",
       "3                               3               180   \n",
       "4                               1               352   \n",
       "\n",
       "   neighbourhood_group_Ciutat Vella  neighbourhood_group_Eixample  \\\n",
       "0                                 1                             0   \n",
       "1                                 0                             0   \n",
       "2                                 0                             0   \n",
       "3                                 1                             0   \n",
       "4                                 1                             0   \n",
       "\n",
       "   neighbourhood_group_Gràcia  ...  \\\n",
       "0                           0  ...   \n",
       "1                           1  ...   \n",
       "2                           1  ...   \n",
       "3                           0  ...   \n",
       "4                           0  ...   \n",
       "\n",
       "   neighbourhood_la Vila Olímpica del Poblenou  \\\n",
       "0                                            0   \n",
       "1                                            0   \n",
       "2                                            0   \n",
       "3                                            0   \n",
       "4                                            0   \n",
       "\n",
       "   neighbourhood_la Vila de Gràcia  neighbourhood_les Corts  \\\n",
       "0                                0                        0   \n",
       "1                                0                        0   \n",
       "2                                0                        0   \n",
       "3                                0                        0   \n",
       "4                                0                        0   \n",
       "\n",
       "   neighbourhood_les Roquetes  neighbourhood_les Tres Torres  \\\n",
       "0                           0                              0   \n",
       "1                           0                              0   \n",
       "2                           0                              0   \n",
       "3                           0                              0   \n",
       "4                           0                              0   \n",
       "\n",
       "   room_type_Entire home/apt  room_type_Hotel room  room_type_Private room  \\\n",
       "0                          0                     0                       1   \n",
       "1                          1                     0                       0   \n",
       "2                          1                     0                       0   \n",
       "3                          0                     0                       1   \n",
       "4                          0                     0                       1   \n",
       "\n",
       "   room_type_Shared room     price  \n",
       "0                      0  4.110874  \n",
       "1                      0  4.204693  \n",
       "2                      0  4.948760  \n",
       "3                      0  4.615121  \n",
       "4                      0  3.526361  \n",
       "\n",
       "[5 rows x 92 columns]"
      ]
     },
     "execution_count": 152,
     "metadata": {},
     "output_type": "execute_result"
    }
   ],
   "source": [
    "data.head()"
   ]
  },
  {
   "cell_type": "code",
   "execution_count": 15,
   "metadata": {
    "ExecuteTime": {
     "end_time": "2020-05-29T21:23:01.212682Z",
     "start_time": "2020-05-29T21:23:01.177273Z"
    }
   },
   "outputs": [],
   "source": [
    "X_train, X_test, y_train, y_test = train_test_split(X, y, test_size=0.3, random_state=42)"
   ]
  },
  {
   "cell_type": "code",
   "execution_count": 158,
   "metadata": {
    "ExecuteTime": {
     "end_time": "2020-05-30T00:14:38.495078Z",
     "start_time": "2020-05-30T00:14:38.488184Z"
    }
   },
   "outputs": [
    {
     "name": "stdout",
     "output_type": "stream",
     "text": [
      "Shape of the X_train: (11027, 91)\n",
      "Shape of the y_train: (11027,)\n",
      "Shape of the X_test: (4726, 91)\n",
      "Shape of the y_test: (4726,)\n"
     ]
    }
   ],
   "source": [
    "print('Shape of the X_train: {}'.format(X_train.shape))\n",
    "print('Shape of the y_train: {}'.format(y_train.shape))\n",
    "print('Shape of the X_test: {}'.format(X_test.shape))\n",
    "print('Shape of the y_test: {}'.format(y_test.shape))"
   ]
  },
  {
   "cell_type": "markdown",
   "metadata": {},
   "source": [
    "### 3. Rescalling the data"
   ]
  },
  {
   "cell_type": "code",
   "execution_count": 159,
   "metadata": {
    "ExecuteTime": {
     "end_time": "2020-05-30T00:15:48.700893Z",
     "start_time": "2020-05-30T00:15:48.566009Z"
    }
   },
   "outputs": [],
   "source": [
    "# Robust Scaler - the centering and scaling statistics of this scaler are based on percentiles and are \n",
    "# therefore not influenced by a few number of very large marginal outliers.\n",
    "\n",
    "scaler = RobustScaler()\n",
    "X_train = scaler.fit_transform(X_train)\n",
    "X_test = scaler.fit_transform(X_test)"
   ]
  },
  {
   "cell_type": "markdown",
   "metadata": {},
   "source": [
    "### 4. Machine Learning Models"
   ]
  },
  {
   "cell_type": "markdown",
   "metadata": {},
   "source": [
    "### 4.1 Cross-Validation"
   ]
  },
  {
   "cell_type": "code",
   "execution_count": 161,
   "metadata": {
    "ExecuteTime": {
     "end_time": "2020-05-30T00:22:20.894048Z",
     "start_time": "2020-05-30T00:22:20.888995Z"
    }
   },
   "outputs": [],
   "source": [
    "# evaluating the score of multiple models based on K-fold cross-validation \n",
    "# Split dataset into 5 consecutive folds  \n",
    "\n",
    "from sklearn.model_selection import KFold, cross_val_score\n",
    "\n",
    "n_folds = 5\n",
    "\n",
    "def rmse_cv(model):\n",
    "    kf = KFold(n_folds, shuffle=True, random_state = 42).get_n_splits(numerical_features)\n",
    "    return cross_val_score(model, X_train, y_train, scoring='neg_mean_squared_error', cv=kf)"
   ]
  },
  {
   "cell_type": "code",
   "execution_count": 160,
   "metadata": {
    "ExecuteTime": {
     "end_time": "2020-05-30T00:19:50.200613Z",
     "start_time": "2020-05-30T00:18:53.893513Z"
    }
   },
   "outputs": [
    {
     "name": "stdout",
     "output_type": "stream",
     "text": [
      "LinearRegression: 0.22208 +/- 0.005743\n",
      "Ridge: 0.22190 +/- 0.005886\n",
      "Lasso: 0.37185 +/- 0.006051\n",
      "ElasticNet: 0.37185 +/- 0.006051\n",
      "RandomForestRegressor: 0.17523 +/- 0.004189\n",
      "XGBRegressor: 0.18648 +/- 0.002601\n"
     ]
    },
    {
     "name": "stderr",
     "output_type": "stream",
     "text": [
      "/Library/Frameworks/Python.framework/Versions/3.8/lib/python3.8/site-packages/sklearn/linear_model/_huber.py:296: ConvergenceWarning: lbfgs failed to converge (status=1):\n",
      "STOP: TOTAL NO. of ITERATIONS REACHED LIMIT.\n",
      "\n",
      "Increase the number of iterations (max_iter) or scale the data as shown in:\n",
      "    https://scikit-learn.org/stable/modules/preprocessing.html\n",
      "  self.n_iter_ = _check_optimize_result(\"lbfgs\", opt_res, self.max_iter)\n",
      "/Library/Frameworks/Python.framework/Versions/3.8/lib/python3.8/site-packages/sklearn/linear_model/_huber.py:296: ConvergenceWarning: lbfgs failed to converge (status=1):\n",
      "STOP: TOTAL NO. of ITERATIONS REACHED LIMIT.\n",
      "\n",
      "Increase the number of iterations (max_iter) or scale the data as shown in:\n",
      "    https://scikit-learn.org/stable/modules/preprocessing.html\n",
      "  self.n_iter_ = _check_optimize_result(\"lbfgs\", opt_res, self.max_iter)\n",
      "/Library/Frameworks/Python.framework/Versions/3.8/lib/python3.8/site-packages/sklearn/linear_model/_huber.py:296: ConvergenceWarning: lbfgs failed to converge (status=1):\n",
      "STOP: TOTAL NO. of ITERATIONS REACHED LIMIT.\n",
      "\n",
      "Increase the number of iterations (max_iter) or scale the data as shown in:\n",
      "    https://scikit-learn.org/stable/modules/preprocessing.html\n",
      "  self.n_iter_ = _check_optimize_result(\"lbfgs\", opt_res, self.max_iter)\n",
      "/Library/Frameworks/Python.framework/Versions/3.8/lib/python3.8/site-packages/sklearn/linear_model/_huber.py:296: ConvergenceWarning: lbfgs failed to converge (status=1):\n",
      "STOP: TOTAL NO. of ITERATIONS REACHED LIMIT.\n",
      "\n",
      "Increase the number of iterations (max_iter) or scale the data as shown in:\n",
      "    https://scikit-learn.org/stable/modules/preprocessing.html\n",
      "  self.n_iter_ = _check_optimize_result(\"lbfgs\", opt_res, self.max_iter)\n"
     ]
    },
    {
     "name": "stdout",
     "output_type": "stream",
     "text": [
      "HuberRegressor: 0.22344 +/- 0.006427\n"
     ]
    },
    {
     "name": "stderr",
     "output_type": "stream",
     "text": [
      "/Library/Frameworks/Python.framework/Versions/3.8/lib/python3.8/site-packages/sklearn/linear_model/_huber.py:296: ConvergenceWarning: lbfgs failed to converge (status=1):\n",
      "STOP: TOTAL NO. of ITERATIONS REACHED LIMIT.\n",
      "\n",
      "Increase the number of iterations (max_iter) or scale the data as shown in:\n",
      "    https://scikit-learn.org/stable/modules/preprocessing.html\n",
      "  self.n_iter_ = _check_optimize_result(\"lbfgs\", opt_res, self.max_iter)\n"
     ]
    }
   ],
   "source": [
    "from sklearn.linear_model import Ridge, RidgeCV, Lasso, LassoCV, LinearRegression, ElasticNet,  HuberRegressor\n",
    "from xgboost import XGBRegressor\n",
    "\n",
    "for Model in [LinearRegression, Ridge, Lasso, ElasticNet, RandomForestRegressor, XGBRegressor, HuberRegressor]:\n",
    "    if Model == XGBRegressor: cv_res = rmse_cv(XGBRegressor(objective='reg:squarederror'))\n",
    "    else: cv_res = rmse_cv(Model())\n",
    "    print('{}: {:.5f} +/- {:5f}'.format(Model.__name__, -cv_res.mean(), cv_res.std()))"
   ]
  },
  {
   "cell_type": "code",
   "execution_count": 38,
   "metadata": {
    "ExecuteTime": {
     "end_time": "2020-05-29T22:49:53.838283Z",
     "start_time": "2020-05-29T22:49:53.831254Z"
    }
   },
   "outputs": [],
   "source": [
    "from sklearn.feature_selection import SelectKBest, f_regression\n",
    "from sklearn.pipeline import make_pipeline\n",
    "from sklearn.model_selection import KFold, ShuffleSplit\n",
    "from sklearn.model_selection import cross_val_score\n",
    "\n",
    "f_selector = SelectKBest(k=3, score_func=f_regression)\n",
    "pipe = make_pipeline(StandardScaler(), f_selector, Ridge())"
   ]
  },
  {
   "cell_type": "code",
   "execution_count": 39,
   "metadata": {
    "ExecuteTime": {
     "end_time": "2020-05-29T22:49:57.406418Z",
     "start_time": "2020-05-29T22:49:56.349605Z"
    }
   },
   "outputs": [
    {
     "name": "stderr",
     "output_type": "stream",
     "text": [
      "/Library/Frameworks/Python.framework/Versions/3.8/lib/python3.8/site-packages/sklearn/feature_selection/_univariate_selection.py:299: RuntimeWarning: invalid value encountered in true_divide\n",
      "  corr /= X_norms\n",
      "/Library/Frameworks/Python.framework/Versions/3.8/lib/python3.8/site-packages/scipy/stats/_distn_infrastructure.py:903: RuntimeWarning: invalid value encountered in greater\n",
      "  return (a < x) & (x < b)\n",
      "/Library/Frameworks/Python.framework/Versions/3.8/lib/python3.8/site-packages/scipy/stats/_distn_infrastructure.py:903: RuntimeWarning: invalid value encountered in less\n",
      "  return (a < x) & (x < b)\n",
      "/Library/Frameworks/Python.framework/Versions/3.8/lib/python3.8/site-packages/scipy/stats/_distn_infrastructure.py:1912: RuntimeWarning: invalid value encountered in less_equal\n",
      "  cond2 = cond0 & (x <= _a)\n"
     ]
    },
    {
     "name": "stdout",
     "output_type": "stream",
     "text": [
      "0.26675752602387404\n"
     ]
    }
   ],
   "source": [
    "kfold = KFold(n_splits=20)\n",
    "results = cross_val_score(pipe, X, y, cv=kfold, scoring='r2')\n",
    "print(np.mean(results)) "
   ]
  },
  {
   "cell_type": "code",
   "execution_count": 41,
   "metadata": {
    "ExecuteTime": {
     "end_time": "2020-05-29T22:51:03.561901Z",
     "start_time": "2020-05-29T22:51:03.557177Z"
    }
   },
   "outputs": [],
   "source": [
    "from sklearn.model_selection import GridSearchCV"
   ]
  },
  {
   "cell_type": "code",
   "execution_count": 56,
   "metadata": {
    "ExecuteTime": {
     "end_time": "2020-05-29T22:54:56.069558Z",
     "start_time": "2020-05-29T22:54:56.064795Z"
    }
   },
   "outputs": [],
   "source": [
    "param_grid = {'alpha': np.logspace(1, 5, 10, 20, 50)}"
   ]
  },
  {
   "cell_type": "code",
   "execution_count": 164,
   "metadata": {
    "ExecuteTime": {
     "end_time": "2020-05-30T00:25:03.981861Z",
     "start_time": "2020-05-30T00:25:03.978094Z"
    }
   },
   "outputs": [],
   "source": [
    "grid = GridSearchCV(Ridge(), param_grid, cv=10)"
   ]
  },
  {
   "cell_type": "code",
   "execution_count": 165,
   "metadata": {
    "ExecuteTime": {
     "end_time": "2020-05-30T00:25:11.013715Z",
     "start_time": "2020-05-30T00:25:09.207818Z"
    }
   },
   "outputs": [
    {
     "data": {
      "text/plain": [
       "GridSearchCV(cv=10, error_score=nan,\n",
       "             estimator=Ridge(alpha=1.0, copy_X=True, fit_intercept=True,\n",
       "                             max_iter=None, normalize=False, random_state=None,\n",
       "                             solver='auto', tol=0.001),\n",
       "             iid='deprecated', n_jobs=None,\n",
       "             param_grid={'alpha': array([5.00000000e+01, 2.84490510e+02, 1.61869701e+03, 9.21007875e+03,\n",
       "       5.24036000e+04, 2.98166538e+05, 1.69651101e+06, 9.65282566e+06,\n",
       "       5.49227459e+07, 3.12500000e+08])},\n",
       "             pre_dispatch='2*n_jobs', refit=True, return_train_score=False,\n",
       "             scoring=None, verbose=0)"
      ]
     },
     "execution_count": 165,
     "metadata": {},
     "output_type": "execute_result"
    }
   ],
   "source": [
    "grid.fit(X_train, y_train)"
   ]
  },
  {
   "cell_type": "code",
   "execution_count": 59,
   "metadata": {
    "ExecuteTime": {
     "end_time": "2020-05-29T22:54:59.837608Z",
     "start_time": "2020-05-29T22:54:59.827433Z"
    }
   },
   "outputs": [
    {
     "name": "stdout",
     "output_type": "stream",
     "text": [
      "{'alpha': 50.0}\n",
      "Ridge(alpha=50.0, copy_X=True, fit_intercept=True, max_iter=None,\n",
      "      normalize=False, random_state=None, solver='auto', tol=0.001)\n"
     ]
    }
   ],
   "source": [
    "print(grid.best_params_)\n",
    "print(grid.best_estimator_)"
   ]
  },
  {
   "cell_type": "code",
   "execution_count": 60,
   "metadata": {
    "ExecuteTime": {
     "end_time": "2020-05-29T22:55:48.700185Z",
     "start_time": "2020-05-29T22:55:48.687307Z"
    }
   },
   "outputs": [
    {
     "data": {
      "text/plain": [
       "0.3931447917826605"
      ]
     },
     "execution_count": 60,
     "metadata": {},
     "output_type": "execute_result"
    }
   ],
   "source": [
    "grid.best_estimator_.score(X_test, y_test)"
   ]
  },
  {
   "cell_type": "code",
   "execution_count": null,
   "metadata": {},
   "outputs": [],
   "source": []
  },
  {
   "cell_type": "code",
   "execution_count": null,
   "metadata": {},
   "outputs": [],
   "source": []
  },
  {
   "cell_type": "code",
   "execution_count": null,
   "metadata": {},
   "outputs": [],
   "source": []
  },
  {
   "cell_type": "code",
   "execution_count": null,
   "metadata": {},
   "outputs": [],
   "source": []
  },
  {
   "cell_type": "code",
   "execution_count": null,
   "metadata": {},
   "outputs": [],
   "source": []
  },
  {
   "cell_type": "code",
   "execution_count": 11,
   "metadata": {
    "ExecuteTime": {
     "end_time": "2020-05-29T21:15:13.486426Z",
     "start_time": "2020-05-29T21:15:12.726471Z"
    }
   },
   "outputs": [
    {
     "data": {
      "text/plain": [
       "Text(0.5, 0, 'log(1+price)')"
      ]
     },
     "execution_count": 11,
     "metadata": {},
     "output_type": "execute_result"
    },
    {
     "data": {
      "image/png": "[encoded data removed]",
      "text/plain": [
       "<Figure size 1512x432 with 2 Axes>"
      ]
     },
     "metadata": {
      "needs_background": "light"
     },
     "output_type": "display_data"
    }
   ],
   "source": [
    "fig, axes = plt.subplots(1,2, figsize=(21,6))\n",
    "sns.distplot(clean_sum_listings['price'], ax=axes[0])\n",
    "sns.distplot(np.log1p(clean_sum_listings['price']), ax=axes[1])\n",
    "axes[1].set_xlabel('log(1+price)')"
   ]
  },
  {
   "cell_type": "code",
   "execution_count": 12,
   "metadata": {
    "ExecuteTime": {
     "end_time": "2020-05-29T21:15:15.163215Z",
     "start_time": "2020-05-29T21:15:13.488891Z"
    }
   },
   "outputs": [
    {
     "data": {
      "text/plain": [
       "Text(0, 0.5, 'count')"
      ]
     },
     "execution_count": 12,
     "metadata": {},
     "output_type": "execute_result"
    },
    {
     "data": {
      "image/png": "[encoded data removed]",
      "text/plain": [
       "<Figure size 1512x432 with 2 Axes>"
      ]
     },
     "metadata": {
      "needs_background": "light"
     },
     "output_type": "display_data"
    }
   ],
   "source": [
    "fig, axes = plt.subplots(1,2, figsize=(21, 6))\n",
    "\n",
    "sns.distplot(clean_sum_listings['minimum_nights'], ax = axes[0])\n",
    "axes[0].set_yscale('log')\n",
    "axes[0].set_ylabel('count')\n",
    "\n",
    "sns.distplot(np.log1p(clean_sum_listings['minimum_nights']),ax = axes[1])\n",
    "axes[1].set_yscale('log')\n",
    "axes[1].set_xlabel('log(1+minimum_nights)')\n",
    "axes[1].set_ylabel('count')"
   ]
  },
  {
   "cell_type": "code",
   "execution_count": 13,
   "metadata": {
    "ExecuteTime": {
     "end_time": "2020-05-29T21:15:15.209706Z",
     "start_time": "2020-05-29T21:15:15.169273Z"
    }
   },
   "outputs": [],
   "source": [
    "clean_sum_listings['price'] = np.log1p(clean_sum_listings['price'])\n",
    "clean_sum_listings['number_of_reviews'] = np.log1p(clean_sum_listings['number_of_reviews'])\n",
    "clean_sum_listings['minimum_nights']= np.log1p(clean_sum_listings['minimum_nights'])\n",
    "clean_sum_listings = clean_sum_listings.drop(['Unnamed: 0', 'host_id'], axis=1)\n",
    "\n",
    "# try removing places with very little to no reviews \n",
    "# try to remove private bedrooms \n",
    "\n",
    "# data = clean_sum_listings.copy()\n",
    "# print('amount of data original: ' + str(len(data)))\n",
    "# data = clean_sum_listings[clean_sum_listings['reviews'] > 10] ### <<---  Change 10 for any other number to change the minimum number of reviews you require\n",
    "# print('amount of data after removing \"few reviews\" properties: ' + str(len(data))"
   ]
  },
  {
   "cell_type": "markdown",
   "metadata": {},
   "source": [
    "### 5. Baseline "
   ]
  },
  {
   "cell_type": "code",
   "execution_count": 16,
   "metadata": {
    "ExecuteTime": {
     "end_time": "2020-05-29T21:15:15.368883Z",
     "start_time": "2020-05-29T21:15:15.360505Z"
    }
   },
   "outputs": [
    {
     "name": "stdout",
     "output_type": "stream",
     "text": [
      "Baseline median value of an overnight stay in Barcelona: 50.0€\n"
     ]
    }
   ],
   "source": [
    "baseline = y_train.median() #median train\n",
    "print(f'Baseline median value of an overnight stay in Barcelona: {str(baseline)}€')"
   ]
  },
  {
   "cell_type": "code",
   "execution_count": 17,
   "metadata": {
    "ExecuteTime": {
     "end_time": "2020-05-29T21:15:15.391601Z",
     "start_time": "2020-05-29T21:15:15.374124Z"
    }
   },
   "outputs": [
    {
     "name": "stdout",
     "output_type": "stream",
     "text": [
      "Baseline Mean Squared Error +- 43.68\n"
     ]
    }
   ],
   "source": [
    "baseline_error = np.sqrt(mean_squared_error(y_pred=np.ones_like(y_test) * baseline, y_true=y_test))\n",
    "print(f'Baseline Mean Squared Error +- {str(round(baseline_error,2))}')"
   ]
  },
  {
   "cell_type": "markdown",
   "metadata": {},
   "source": [
    "### 6. Machine Learning Models"
   ]
  },
  {
   "cell_type": "code",
   "execution_count": 29,
   "metadata": {
    "ExecuteTime": {
     "end_time": "2020-05-29T22:03:01.254751Z",
     "start_time": "2020-05-29T22:03:01.245808Z"
    }
   },
   "outputs": [],
   "source": [
    "lr = LinearRegression()\n",
    "alphas = [1000, 100, 50, 20, 10, 1, 0.1, 0.01]\n",
    "l1_ratios = [0.001, 0.01, 0.05, 0.1, 0.3, 0.5, 0.7, 0.9]\n",
    "ridge = RidgeCV(alphas=alphas)\n",
    "lasso = LassoCV(alphas=alphas, max_iter=10000)\n",
    "elastic = ElasticNetCV(alphas=alphas, l1_ratio=l1_ratios)"
   ]
  },
  {
   "cell_type": "code",
   "execution_count": 168,
   "metadata": {
    "ExecuteTime": {
     "end_time": "2020-05-30T00:28:12.695667Z",
     "start_time": "2020-05-30T00:28:11.156764Z"
    }
   },
   "outputs": [
    {
     "name": "stdout",
     "output_type": "stream",
     "text": [
      "LinearRegression mrse_train: 0.4676, mrse_test: 0.4749\n",
      "Ridge mrse_train: 0.4679, mrse_test: 0.4743 best alpha: 10.0\n",
      "Lasso mrse_train: 0.4852, mrse_test: 0.4905 best alpha: 0.01\n",
      "ElasticNet mrse_train: 0.471, mrse_test: 0.4761 best alpha: 0.01 best l1: 0.001\n"
     ]
    }
   ],
   "source": [
    "# Function to calculate score with Cross-Validation\n",
    "\n",
    "for model, name in zip([lr, ridge, lasso, elastic], ['LinearRegression', 'Ridge', 'Lasso', 'ElasticNet']):\n",
    "    model.fit(X_train, y_train)\n",
    "    y_pred_train = model.predict(X_train)\n",
    "    mrse_train = np.sqrt(mean_squared_error(y_pred=y_pred_train, y_true=y_train))\n",
    "    y_pred = model.predict(X_test)\n",
    "    mrse_test = np.sqrt(mean_squared_error(y_pred=y_pred, y_true=y_test))\n",
    "    best_alpha = ''\n",
    "    \n",
    "    if name != 'LinearRegression':\n",
    "        best_alpha = ' best alpha: ' + str(model.alpha_)\n",
    "    best_l1 = ''\n",
    "    \n",
    "    if name == 'ElasticNet':\n",
    "        best_l1 = ' best l1: '+ str(model.l1_ratio_)\n",
    "   \n",
    "    print(name + ' mrse_train: ' + str(round(mrse_train,4)) + ', mrse_test: ' + str(round(mrse_test,4)) + best_alpha + best_l1)"
   ]
  },
  {
   "cell_type": "code",
   "execution_count": 22,
   "metadata": {
    "ExecuteTime": {
     "end_time": "2020-05-29T21:15:18.172854Z",
     "start_time": "2020-05-29T21:15:18.168899Z"
    }
   },
   "outputs": [],
   "source": [
    "# Ridge, Lasso and ElasticNet reveal much better MRSE than the baseline testing errors !\n",
    "# Still very high values in the test set\n",
    "# Problem is not it is not being able to generalise, problem is that it's not being able to learn"
   ]
  },
  {
   "cell_type": "code",
   "execution_count": 169,
   "metadata": {
    "ExecuteTime": {
     "end_time": "2020-05-30T00:29:34.457742Z",
     "start_time": "2020-05-30T00:29:34.440569Z"
    }
   },
   "outputs": [
    {
     "ename": "AttributeError",
     "evalue": "'numpy.ndarray' object has no attribute 'columns'",
     "output_type": "error",
     "traceback": [
      "\u001b[0;31m---------------------------------------------------------------------------\u001b[0m",
      "\u001b[0;31mAttributeError\u001b[0m                            Traceback (most recent call last)",
      "\u001b[0;32m<ipython-input-169-6e141525d55c>\u001b[0m in \u001b[0;36m<module>\u001b[0;34m\u001b[0m\n\u001b[1;32m      5\u001b[0m     \u001b[0mcoef_\u001b[0m \u001b[0;34m=\u001b[0m \u001b[0mlasso\u001b[0m\u001b[0;34m.\u001b[0m\u001b[0mcoef_\u001b[0m\u001b[0;34m[\u001b[0m\u001b[0mi\u001b[0m\u001b[0;34m]\u001b[0m\u001b[0;34m\u001b[0m\u001b[0;34m\u001b[0m\u001b[0m\n\u001b[1;32m      6\u001b[0m     \u001b[0;32mif\u001b[0m \u001b[0mcoef_\u001b[0m \u001b[0;34m>\u001b[0m \u001b[0;36m0\u001b[0m\u001b[0;34m:\u001b[0m\u001b[0;34m\u001b[0m\u001b[0;34m\u001b[0m\u001b[0m\n\u001b[0;32m----> 7\u001b[0;31m         \u001b[0mprint\u001b[0m\u001b[0;34m(\u001b[0m\u001b[0mX\u001b[0m\u001b[0;34m.\u001b[0m\u001b[0mcolumns\u001b[0m\u001b[0;34m[\u001b[0m\u001b[0mi\u001b[0m\u001b[0;34m]\u001b[0m \u001b[0;34m+\u001b[0m \u001b[0;34m', '\u001b[0m \u001b[0;34m+\u001b[0m \u001b[0mstr\u001b[0m\u001b[0;34m(\u001b[0m\u001b[0mround\u001b[0m\u001b[0;34m(\u001b[0m\u001b[0mlasso\u001b[0m\u001b[0;34m.\u001b[0m\u001b[0mcoef_\u001b[0m\u001b[0;34m[\u001b[0m\u001b[0mi\u001b[0m\u001b[0;34m]\u001b[0m\u001b[0;34m,\u001b[0m\u001b[0;36m3\u001b[0m\u001b[0;34m)\u001b[0m\u001b[0;34m)\u001b[0m\u001b[0;34m)\u001b[0m\u001b[0;34m\u001b[0m\u001b[0;34m\u001b[0m\u001b[0m\n\u001b[0m",
      "\u001b[0;31mAttributeError\u001b[0m: 'numpy.ndarray' object has no attribute 'columns'"
     ]
    }
   ],
   "source": [
    "# Non-zero Lasso coefficients ordered by importance\n",
    "\n",
    "order = np.argsort(np.abs(lasso.coef_))[::-1]\n",
    "for i in order:\n",
    "    coef_ = lasso.coef_[i]\n",
    "    if coef_ > 0:\n",
    "        print(X.columns[i] + ', ' + str(round(lasso.coef_[i],3)))"
   ]
  },
  {
   "cell_type": "markdown",
   "metadata": {},
   "source": [
    "### Error Analysis"
   ]
  },
  {
   "cell_type": "code",
   "execution_count": 171,
   "metadata": {
    "ExecuteTime": {
     "end_time": "2020-05-30T00:29:42.440089Z",
     "start_time": "2020-05-30T00:29:42.013356Z"
    }
   },
   "outputs": [
    {
     "data": {
      "text/plain": [
       "<matplotlib.legend.Legend at 0x7fe319d25880>"
      ]
     },
     "execution_count": 171,
     "metadata": {},
     "output_type": "execute_result"
    },
    {
     "data": {
      "image/png": "[encoded data removed]",
      "text/plain": [
       "<Figure size 1080x576 with 1 Axes>"
      ]
     },
     "metadata": {
      "needs_background": "light"
     },
     "output_type": "display_data"
    }
   ],
   "source": [
    "y_pred_train = lasso.predict(X_train)\n",
    "\n",
    "diff = y_train - y_pred_train\n",
    "\n",
    "plt.figure(figsize=(15,8))\n",
    "plt.scatter(np.arange(len(diff)), diff, label = 'residuals')\n",
    "plt.legend()"
   ]
  },
  {
   "cell_type": "code",
   "execution_count": null,
   "metadata": {},
   "outputs": [],
   "source": []
  },
  {
   "cell_type": "code",
   "execution_count": null,
   "metadata": {},
   "outputs": [],
   "source": []
  }
 ],
 "metadata": {
  "kernelspec": {
   "display_name": "Python 3",
   "language": "python",
   "name": "python3"
  },
  "language_info": {
   "codemirror_mode": {
    "name": "ipython",
    "version": 3
   },
   "file_extension": ".py",
   "mimetype": "text/x-python",
   "name": "python",
   "nbconvert_exporter": "python",
   "pygments_lexer": "ipython3",
   "version": "3.8.2"
  }
 },
 "nbformat": 4,
 "nbformat_minor": 4
}
